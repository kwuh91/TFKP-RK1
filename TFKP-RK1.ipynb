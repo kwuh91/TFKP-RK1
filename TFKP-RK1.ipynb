{
 "cells": [
  {
   "cell_type": "code",
   "execution_count": 1,
   "metadata": {},
   "outputs": [],
   "source": [
    "import sympy as sp\n",
    "\n",
    "from sympy.abc import x, y, z, u, v, w\n",
    "from sympy import I\n",
    "\n",
    "from IPython.display import display, Markdown"
   ]
  },
  {
   "cell_type": "markdown",
   "metadata": {},
   "source": [
    "<h3><center>ТФКП. Задание 2. Арифметические действия с комплексными числами.</center></h3>"
   ]
  },
  {
   "cell_type": "code",
   "execution_count": 2,
   "metadata": {},
   "outputs": [
    {
     "data": {
      "text/markdown": [
       "$z_1 = \\sqrt{3} - i$"
      ],
      "text/plain": [
       "<IPython.core.display.Markdown object>"
      ]
     },
     "metadata": {},
     "output_type": "display_data"
    },
    {
     "data": {
      "text/markdown": [
       "$z_2 = 2 + 2 i$"
      ],
      "text/plain": [
       "<IPython.core.display.Markdown object>"
      ]
     },
     "metadata": {},
     "output_type": "display_data"
    }
   ],
   "source": [
    "z1 = sp.sqrt(3) - I\n",
    "z2 = 2 + 2 * I\n",
    "\n",
    "display(Markdown(f'$z_1 = {sp.latex(z1)}$'))\n",
    "display(Markdown(f'$z_2 = {sp.latex(z2)}$'))"
   ]
  },
  {
   "cell_type": "markdown",
   "metadata": {},
   "source": [
    "<h5>Сложение</h5>"
   ]
  },
  {
   "cell_type": "code",
   "execution_count": 3,
   "metadata": {},
   "outputs": [
    {
     "data": {
      "text/markdown": [
       "$z_1 + z_2 = \\sqrt{3} + 2 + i$"
      ],
      "text/plain": [
       "<IPython.core.display.Markdown object>"
      ]
     },
     "metadata": {},
     "output_type": "display_data"
    },
    {
     "data": {
      "text/markdown": [
       "$answer = (\\sqrt{3} + 2) + i(1)$"
      ],
      "text/plain": [
       "<IPython.core.display.Markdown object>"
      ]
     },
     "metadata": {},
     "output_type": "display_data"
    }
   ],
   "source": [
    "sumy = z1 + z2\n",
    "\n",
    "display(Markdown(f'$z_1 + z_2 = {sp.latex(sumy)}$'))\n",
    "\n",
    "real, imaginary = sumy.as_real_imag()\n",
    "\n",
    "display(Markdown(f'$answer = ({sp.latex(real)}) + i({sp.latex(imaginary)})$'))"
   ]
  },
  {
   "cell_type": "markdown",
   "metadata": {},
   "source": [
    "<h5>Вычитание</h5>"
   ]
  },
  {
   "cell_type": "code",
   "execution_count": 4,
   "metadata": {},
   "outputs": [
    {
     "data": {
      "text/markdown": [
       "$z_1 - z_2 = -2 + \\sqrt{3} - 3 i$"
      ],
      "text/plain": [
       "<IPython.core.display.Markdown object>"
      ]
     },
     "metadata": {},
     "output_type": "display_data"
    },
    {
     "data": {
      "text/markdown": [
       "$answer = (-2 + \\sqrt{3}) + i(-3)$"
      ],
      "text/plain": [
       "<IPython.core.display.Markdown object>"
      ]
     },
     "metadata": {},
     "output_type": "display_data"
    }
   ],
   "source": [
    "diff = z1 - z2\n",
    "\n",
    "display(Markdown(f'$z_1 - z_2 = {sp.latex(diff)}$'))\n",
    "\n",
    "real, imaginary = diff.as_real_imag()\n",
    "\n",
    "display(Markdown(f'$answer = ({sp.latex(real)}) + i({sp.latex(imaginary)})$'))"
   ]
  },
  {
   "cell_type": "markdown",
   "metadata": {},
   "source": [
    "<h5>Умножение</h5>"
   ]
  },
  {
   "cell_type": "code",
   "execution_count": 5,
   "metadata": {},
   "outputs": [
    {
     "data": {
      "text/markdown": [
       "$z_1 \\cdot z_2 = 2 + 2 \\sqrt{3} - 2 i + 2 \\sqrt{3} i$"
      ],
      "text/plain": [
       "<IPython.core.display.Markdown object>"
      ]
     },
     "metadata": {},
     "output_type": "display_data"
    },
    {
     "data": {
      "text/markdown": [
       "$answer = (2 + 2 \\sqrt{3}) + i(-2 + 2 \\sqrt{3})$"
      ],
      "text/plain": [
       "<IPython.core.display.Markdown object>"
      ]
     },
     "metadata": {},
     "output_type": "display_data"
    }
   ],
   "source": [
    "product = z1 * z2\n",
    "product = product.expand()\n",
    "\n",
    "display(Markdown(f'$z_1 \\cdot z_2 = {sp.latex(product)}$'))\n",
    "\n",
    "real, imaginary = product.as_real_imag()\n",
    "\n",
    "display(Markdown(f'$answer = ({sp.latex(real)}) + i({sp.latex(imaginary)})$'))"
   ]
  },
  {
   "cell_type": "markdown",
   "metadata": {},
   "source": [
    "<h5>Деление</h5>"
   ]
  },
  {
   "cell_type": "code",
   "execution_count": 6,
   "metadata": {},
   "outputs": [
    {
     "data": {
      "text/markdown": [
       "$\\frac{z1}{z2} = - \\frac{1}{4} + \\frac{\\sqrt{3}}{4} - \\frac{\\sqrt{3} i}{4} - \\frac{i}{4}$"
      ],
      "text/plain": [
       "<IPython.core.display.Markdown object>"
      ]
     },
     "metadata": {},
     "output_type": "display_data"
    },
    {
     "data": {
      "text/markdown": [
       "$answer = (- \\frac{1}{4} + \\frac{\\sqrt{3}}{4}) + i(- \\frac{\\sqrt{3}}{4} - \\frac{1}{4})$"
      ],
      "text/plain": [
       "<IPython.core.display.Markdown object>"
      ]
     },
     "metadata": {},
     "output_type": "display_data"
    }
   ],
   "source": [
    "div = z1/z2\n",
    "div = div.expand()\n",
    "\n",
    "display(Markdown(f'$\\\\frac{{z1}}{{z2}} = {sp.latex(div)}$'))\n",
    "\n",
    "real, imaginary = div.as_real_imag()\n",
    "\n",
    "display(Markdown(f'$answer = ({sp.latex(real)}) + i({sp.latex(imaginary)})$'))"
   ]
  },
  {
   "cell_type": "code",
   "execution_count": 7,
   "metadata": {},
   "outputs": [],
   "source": [
    "def findPhi(z):\n",
    "    display(Markdown(f'$z = {sp.latex(z)}$'))\n",
    "\n",
    "    phi = sp.symbols('varphi')\n",
    "\n",
    "    r = sp.Abs(z)\n",
    "\n",
    "    display(Markdown(f'$r = \\\\lvert\\\\sqrt{{a^2 + b^2}}\\\\rvert = {sp.latex(r)}$'))\n",
    "\n",
    "    a = sp.re(z)\n",
    "    b = sp.im(z)\n",
    "\n",
    "    div1 = (a/r)\n",
    "    div2 = (b/r)\n",
    "\n",
    "    eq1 = sp.Eq(sp.cos(phi), div1)\n",
    "    eq2 = sp.Eq(sp.sin(phi), div2)\n",
    "    \n",
    "    fstring: str = f\"$\\\\begin{{cases}}                                                                       \" \\\n",
    "                   f\"   \\\\cos{{\\\\varphi}} = \\\\frac{{{sp.latex(a)}}}{{{sp.latex(r)}}} = {sp.latex(div1)} \\\\\\\\ \" \\\n",
    "                   f\"   \\\\sin{{\\\\varphi}} = \\\\frac{{{sp.latex(b)}}}{{{sp.latex(r)}}} = {sp.latex(div2)}      \" \\\n",
    "                   f\"\\\\end{{cases}}$                                                                         \" \\\n",
    "                   \n",
    "    display(Markdown(fstring))\n",
    "\n",
    "    res = sp.solve([eq1, eq2], phi)\n",
    "\n",
    "    try:\n",
    "        display(Markdown(f'$\\\\varphi = {sp.latex(res[0][0])}$'))\n",
    "    except Exception:\n",
    "        display(Markdown(f'Error occurred'))\n",
    "\n",
    "    return res[0][0]"
   ]
  },
  {
   "cell_type": "markdown",
   "metadata": {},
   "source": [
    "<h5>Возведение в степень</h5>"
   ]
  },
  {
   "cell_type": "code",
   "execution_count": 8,
   "metadata": {},
   "outputs": [],
   "source": [
    "def nPower(z, n):\n",
    "    phi = findPhi(z)\n",
    "\n",
    "    display(Markdown('$z^n = \\\\lvert z \\\\rvert ^n (\\\\cos(n \\\\varphi) + i \\\\sin(n \\\\varphi))$'))\n",
    "\n",
    "    display(Markdown(f'$({sp.latex(z)})^{n} = \\\\lvert {sp.latex(z)} \\\\rvert ^{n} (\\\\cos({n} \\\\cdot {sp.latex(phi)}) + i \\\\sin({n} \\\\cdot {sp.latex(phi)}))$'))\n",
    "\n",
    "    res = sp.Abs(z)**n * (sp.cos(n * phi) + I * sp.sin(n * phi))\n",
    "\n",
    "    display(Markdown(f'$({sp.latex(z)})^{n} = {sp.latex(res)}$'))\n",
    "\n",
    "    if (sp.latex(res) != sp.latex(res.simplify())):\n",
    "        display(Markdown(f'$({sp.latex(z)})^{n} = {sp.latex(res.simplify())}$'))\n",
    "\n",
    "    real, imaginary = res.as_real_imag()\n",
    "\n",
    "    display(Markdown(f'$answer = ({sp.latex(real)}) + i({sp.latex(imaginary)})$'))\n",
    "\n",
    "    return res"
   ]
  },
  {
   "cell_type": "code",
   "execution_count": 9,
   "metadata": {},
   "outputs": [
    {
     "data": {
      "text/markdown": [
       "$z = \\sqrt{3} - i$"
      ],
      "text/plain": [
       "<IPython.core.display.Markdown object>"
      ]
     },
     "metadata": {},
     "output_type": "display_data"
    },
    {
     "data": {
      "text/markdown": [
       "$r = \\lvert\\sqrt{a^2 + b^2}\\rvert = 2$"
      ],
      "text/plain": [
       "<IPython.core.display.Markdown object>"
      ]
     },
     "metadata": {},
     "output_type": "display_data"
    },
    {
     "data": {
      "text/markdown": [
       "$\\begin{cases}                                                                          \\cos{\\varphi} = \\frac{\\sqrt{3}}{2} = \\frac{\\sqrt{3}}{2} \\\\    \\sin{\\varphi} = \\frac{-1}{2} = - \\frac{1}{2}      \\end{cases}$                                                                         "
      ],
      "text/plain": [
       "<IPython.core.display.Markdown object>"
      ]
     },
     "metadata": {},
     "output_type": "display_data"
    },
    {
     "data": {
      "text/markdown": [
       "$\\varphi = - \\frac{\\pi}{6}$"
      ],
      "text/plain": [
       "<IPython.core.display.Markdown object>"
      ]
     },
     "metadata": {},
     "output_type": "display_data"
    },
    {
     "data": {
      "text/markdown": [
       "$z^n = \\lvert z \\rvert ^n (\\cos(n \\varphi) + i \\sin(n \\varphi))$"
      ],
      "text/plain": [
       "<IPython.core.display.Markdown object>"
      ]
     },
     "metadata": {},
     "output_type": "display_data"
    },
    {
     "data": {
      "text/markdown": [
       "$(\\sqrt{3} - i)^3 = \\lvert \\sqrt{3} - i \\rvert ^3 (\\cos(3 \\cdot - \\frac{\\pi}{6}) + i \\sin(3 \\cdot - \\frac{\\pi}{6}))$"
      ],
      "text/plain": [
       "<IPython.core.display.Markdown object>"
      ]
     },
     "metadata": {},
     "output_type": "display_data"
    },
    {
     "data": {
      "text/markdown": [
       "$(\\sqrt{3} - i)^3 = - 8 i$"
      ],
      "text/plain": [
       "<IPython.core.display.Markdown object>"
      ]
     },
     "metadata": {},
     "output_type": "display_data"
    },
    {
     "data": {
      "text/markdown": [
       "$answer = (0) + i(-8)$"
      ],
      "text/plain": [
       "<IPython.core.display.Markdown object>"
      ]
     },
     "metadata": {},
     "output_type": "display_data"
    },
    {
     "data": {
      "text/latex": [
       "$\\displaystyle - 8 i$"
      ],
      "text/plain": [
       "-8*I"
      ]
     },
     "execution_count": 9,
     "metadata": {},
     "output_type": "execute_result"
    }
   ],
   "source": [
    "z = sp.sqrt(3) - I\n",
    "nPower(z, 3)"
   ]
  },
  {
   "cell_type": "markdown",
   "metadata": {},
   "source": [
    "<h5>Извлечение корня</h5>"
   ]
  },
  {
   "cell_type": "code",
   "execution_count": 10,
   "metadata": {},
   "outputs": [],
   "source": [
    "def nRoot(z, n):\n",
    "    phi = findPhi(z)\n",
    "\n",
    "    k = sp.symbols('k', real=True)\n",
    "\n",
    "    display(Markdown('$\\\\sqrt[n]{z} = \\\\sqrt[n]{\\\\lvert z \\\\rvert} (\\\\cos(\\\\frac{\\\\varphi + 2 \\pi k}{n}) + i \\\\sin(\\\\frac{\\\\varphi + 2 \\pi k}{n})), k = 0,1, \\\\dots, n-1$'))\n",
    "\n",
    "    display(Markdown(f'$\\\\sqrt[{n}]{{{sp.latex(z)}}} = \\\\sqrt[{n}]{{\\\\lvert {sp.latex(z)} \\\\rvert}} (\\\\cos(\\\\frac{{{sp.latex(phi)} + 2 \\pi k}}{{n}}) + i \\\\sin(\\\\frac{{{sp.latex(phi)} + 2 \\pi k}}{{n}})), k = 0,1, \\\\dots, {n - 1}$'))\n",
    "\n",
    "    res = sp.root(sp.Abs(z), n) * (sp.cos((phi + 2 * sp.pi * k)/n) + I * sp.sin((phi + 2 * sp.pi * k)/n))\n",
    "\n",
    "    display(Markdown(f'$\\\\sqrt[{n}]{{{sp.latex(z)}}} = {sp.latex(res)}, k = 0,1, \\\\dots, {n - 1}$'))\n",
    "\n",
    "    if (sp.latex(res) != sp.latex(res.simplify())):\n",
    "        display(Markdown(f'$\\\\sqrt[{n}]{{{sp.latex(z)}}} = {sp.latex(res.simplify())}, k = 0,1, \\\\dots, {n - 1}$'))\n",
    "\n",
    "    real, imaginary = res.as_real_imag()\n",
    "\n",
    "    display(Markdown(f'$answer = ({sp.latex(real)}) + i({sp.latex(imaginary)})$'))\n",
    "\n",
    "    for i in range(n):\n",
    "        temp = res.subs(k, i).expand()\n",
    "\n",
    "        display(Markdown(f'$k = {i}: \\\\hspace*{{0.2cm}} {sp.latex(temp)}$'))\n",
    "\n",
    "    return res"
   ]
  },
  {
   "cell_type": "code",
   "execution_count": 11,
   "metadata": {},
   "outputs": [
    {
     "data": {
      "text/markdown": [
       "$z = -16$"
      ],
      "text/plain": [
       "<IPython.core.display.Markdown object>"
      ]
     },
     "metadata": {},
     "output_type": "display_data"
    },
    {
     "data": {
      "text/markdown": [
       "$r = \\lvert\\sqrt{a^2 + b^2}\\rvert = 16$"
      ],
      "text/plain": [
       "<IPython.core.display.Markdown object>"
      ]
     },
     "metadata": {},
     "output_type": "display_data"
    },
    {
     "data": {
      "text/markdown": [
       "$\\begin{cases}                                                                          \\cos{\\varphi} = \\frac{-16}{16} = -1 \\\\    \\sin{\\varphi} = \\frac{0}{16} = 0      \\end{cases}$                                                                         "
      ],
      "text/plain": [
       "<IPython.core.display.Markdown object>"
      ]
     },
     "metadata": {},
     "output_type": "display_data"
    },
    {
     "data": {
      "text/markdown": [
       "$\\varphi = \\pi$"
      ],
      "text/plain": [
       "<IPython.core.display.Markdown object>"
      ]
     },
     "metadata": {},
     "output_type": "display_data"
    },
    {
     "data": {
      "text/markdown": [
       "$\\sqrt[n]{z} = \\sqrt[n]{\\lvert z \\rvert} (\\cos(\\frac{\\varphi + 2 \\pi k}{n}) + i \\sin(\\frac{\\varphi + 2 \\pi k}{n})), k = 0,1, \\dots, n-1$"
      ],
      "text/plain": [
       "<IPython.core.display.Markdown object>"
      ]
     },
     "metadata": {},
     "output_type": "display_data"
    },
    {
     "data": {
      "text/markdown": [
       "$\\sqrt[4]{-16} = \\sqrt[4]{\\lvert -16 \\rvert} (\\cos(\\frac{\\pi + 2 \\pi k}{n}) + i \\sin(\\frac{\\pi + 2 \\pi k}{n})), k = 0,1, \\dots, 3$"
      ],
      "text/plain": [
       "<IPython.core.display.Markdown object>"
      ]
     },
     "metadata": {},
     "output_type": "display_data"
    },
    {
     "data": {
      "text/markdown": [
       "$\\sqrt[4]{-16} = 2 i \\sin{\\left(\\frac{\\pi k}{2} + \\frac{\\pi}{4} \\right)} + 2 \\cos{\\left(\\frac{\\pi k}{2} + \\frac{\\pi}{4} \\right)}, k = 0,1, \\dots, 3$"
      ],
      "text/plain": [
       "<IPython.core.display.Markdown object>"
      ]
     },
     "metadata": {},
     "output_type": "display_data"
    },
    {
     "data": {
      "text/markdown": [
       "$\\sqrt[4]{-16} = 2 e^{i \\pi \\left(\\frac{k}{2} + \\frac{1}{4}\\right)}, k = 0,1, \\dots, 3$"
      ],
      "text/plain": [
       "<IPython.core.display.Markdown object>"
      ]
     },
     "metadata": {},
     "output_type": "display_data"
    },
    {
     "data": {
      "text/markdown": [
       "$answer = (2 \\cos{\\left(\\frac{\\pi k}{2} + \\frac{\\pi}{4} \\right)}) + i(2 \\sin{\\left(\\frac{\\pi k}{2} + \\frac{\\pi}{4} \\right)})$"
      ],
      "text/plain": [
       "<IPython.core.display.Markdown object>"
      ]
     },
     "metadata": {},
     "output_type": "display_data"
    },
    {
     "data": {
      "text/markdown": [
       "$k = 0: \\hspace*{0.2cm} \\sqrt{2} + \\sqrt{2} i$"
      ],
      "text/plain": [
       "<IPython.core.display.Markdown object>"
      ]
     },
     "metadata": {},
     "output_type": "display_data"
    },
    {
     "data": {
      "text/markdown": [
       "$k = 1: \\hspace*{0.2cm} - \\sqrt{2} + \\sqrt{2} i$"
      ],
      "text/plain": [
       "<IPython.core.display.Markdown object>"
      ]
     },
     "metadata": {},
     "output_type": "display_data"
    },
    {
     "data": {
      "text/markdown": [
       "$k = 2: \\hspace*{0.2cm} - \\sqrt{2} - \\sqrt{2} i$"
      ],
      "text/plain": [
       "<IPython.core.display.Markdown object>"
      ]
     },
     "metadata": {},
     "output_type": "display_data"
    },
    {
     "data": {
      "text/markdown": [
       "$k = 3: \\hspace*{0.2cm} \\sqrt{2} - \\sqrt{2} i$"
      ],
      "text/plain": [
       "<IPython.core.display.Markdown object>"
      ]
     },
     "metadata": {},
     "output_type": "display_data"
    },
    {
     "data": {
      "text/latex": [
       "$\\displaystyle 2 i \\sin{\\left(\\frac{\\pi k}{2} + \\frac{\\pi}{4} \\right)} + 2 \\cos{\\left(\\frac{\\pi k}{2} + \\frac{\\pi}{4} \\right)}$"
      ],
      "text/plain": [
       "2*I*sin(pi*k/2 + pi/4) + 2*cos(pi*k/2 + pi/4)"
      ]
     },
     "execution_count": 11,
     "metadata": {},
     "output_type": "execute_result"
    }
   ],
   "source": [
    "z = -16\n",
    "nRoot(sp.conjugate(z), 4)"
   ]
  },
  {
   "cell_type": "markdown",
   "metadata": {},
   "source": [
    "<h3><center>ТФКП. Задание 4. Вычисление значения функции в точке.</center></h3>"
   ]
  },
  {
   "cell_type": "code",
   "execution_count": 12,
   "metadata": {},
   "outputs": [],
   "source": [
    "def powerFunc(z, alpha):\n",
    "    display(Markdown('$z^ \\\\alpha = e^ {\\\\alpha Ln z} = e^ {\\\\alpha (ln \\\\lvert z \\\\rvert + i arg(z) + i 2 \\\\pi k)}$'))\n",
    "\n",
    "    k = sp.symbols('k', real=True)\n",
    "\n",
    "    return sp.exp(alpha * (sp.ln(sp.Abs(z)) + I * sp.arg(z) + I * 2 * sp.pi * k))"
   ]
  },
  {
   "cell_type": "code",
   "execution_count": 13,
   "metadata": {},
   "outputs": [
    {
     "data": {
      "text/markdown": [
       "$z^ \\alpha = e^ {\\alpha Ln z} = e^ {\\alpha (ln \\lvert z \\rvert + i arg(z) + i 2 \\pi k)}$"
      ],
      "text/plain": [
       "<IPython.core.display.Markdown object>"
      ]
     },
     "metadata": {},
     "output_type": "display_data"
    },
    {
     "data": {
      "text/markdown": [
       "$e^{2 i \\left(2 i \\pi k - \\frac{i \\pi}{2}\\right)}$"
      ],
      "text/plain": [
       "<IPython.core.display.Markdown object>"
      ]
     },
     "metadata": {},
     "output_type": "display_data"
    },
    {
     "data": {
      "text/markdown": [
       "$answer = (e^{- 4 \\pi k + \\pi}) + i(0)$"
      ],
      "text/plain": [
       "<IPython.core.display.Markdown object>"
      ]
     },
     "metadata": {},
     "output_type": "display_data"
    },
    {
     "data": {
      "text/markdown": [
       "$answer = (e^{\\pi \\left(1 - 4 k\\right)}) + i(0)$"
      ],
      "text/plain": [
       "<IPython.core.display.Markdown object>"
      ]
     },
     "metadata": {},
     "output_type": "display_data"
    }
   ],
   "source": [
    "# z = sp.sqrt(2) + (I * sp.pi) / 4\n",
    "# z = sp.ln(4) - (I * sp.pi) / 3\n",
    "z = 1 / I\n",
    "\n",
    "# w = sp.exp(z)\n",
    "# w = sp.tanh(z)\n",
    "w = powerFunc(z, 2 * I)\n",
    "\n",
    "display(Markdown(f'${sp.latex(w)}$'))\n",
    "\n",
    "real, imaginary = w.as_real_imag()\n",
    "\n",
    "display(Markdown(f'$answer = ({sp.latex(real)}) + i({sp.latex(imaginary)})$'))\n",
    "display(Markdown(f'$answer = ({sp.latex(real.simplify())}) + i({sp.latex(imaginary.simplify())})$'))"
   ]
  },
  {
   "cell_type": "markdown",
   "metadata": {},
   "source": [
    "<h3><center>ТФКП. Задание 8. Отображение дробно-линейной функцией.(ERROR)</center></h3>"
   ]
  },
  {
   "cell_type": "code",
   "execution_count": 14,
   "metadata": {},
   "outputs": [],
   "source": [
    "# z, w = sp.symbols('z omega')\n",
    "\n",
    "# u, v = sp.symbols('u v', real=True)\n",
    "\n",
    "# # expr1 = sp.Abs(z - 1 - I) >= sp.sqrt(2)\n",
    "# expr1 = sp.Abs(z - sp.sqrt(3)) >= 2\n",
    "# # expr1 = sp.Eq(sp.Abs(z - sp.sqrt(3)), 2, evaluate=False)\n",
    "# # expr1 = sp.Abs(z - sp.sqrt(3)) - 2\n",
    "# # expr2 = sp.Eq(sp.Abs(z), 1, evaluate=False)\n",
    "# expr2 = sp.Abs(z) <= 1\n",
    "\n",
    "# omegaExpr = sp.Eq(w, (- I * z - 1)/(z + I))\n",
    "# # omegaExpr = sp.Eq(w, ((1 + I) * z + 2 - 2 * I)/(z))\n",
    "\n",
    "# fstring: str = f\"$\\\\begin{{cases}}         \" \\\n",
    "#                f\"   {sp.latex(expr1)} \\\\\\\\ \" \\\n",
    "#                f\"   {sp.latex(expr2)}      \" \\\n",
    "#                f\"\\\\end{{cases}}$           \" \\\n",
    "                \n",
    "# display(Markdown(fstring))\n",
    "\n",
    "# display(Markdown(f'${sp.latex(omegaExpr)}$'))\n",
    "\n",
    "# z_extracted = sp.solve(omegaExpr, z)[0]\n",
    "\n",
    "# display(Markdown(f'$z = {sp.latex(z_extracted)}$'))\n",
    "\n",
    "# subs1 = expr1.subs(z, z_extracted).simplify()\n",
    "# subs2 = expr2.subs(z, z_extracted).simplify()\n",
    "\n",
    "# fstring: str = f\"$\\\\begin{{cases}}         \" \\\n",
    "#                f\"   {sp.latex(subs1)} \\\\\\\\ \" \\\n",
    "#                f\"   {sp.latex(subs2)}      \" \\\n",
    "#                f\"\\\\end{{cases}}$           \" \\\n",
    "                \n",
    "# display(Markdown(fstring))\n",
    "\n",
    "# num1, den1 = sp.fraction(subs1.args[0].args[0])\n",
    "# num2, den2 = sp.fraction(subs2.args[0].args[0])\n",
    "\n",
    "# subs1 = subs1.lhs * sp.Abs(den1) >= subs1.rhs * sp.Abs(den1)\n",
    "# subs2 = subs2.lhs * sp.Abs(den2) >= subs2.rhs * sp.Abs(den2)\n",
    "\n",
    "# fstring: str = f\"$\\\\begin{{cases}}         \" \\\n",
    "#                f\"   {sp.latex(subs1)} \\\\\\\\ \" \\\n",
    "#                f\"   {sp.latex(subs2)}      \" \\\n",
    "#                f\"\\\\end{{cases}}$           \" \\\n",
    "                \n",
    "# display(Markdown(fstring))\n",
    "\n",
    "# fstring: str = f\"$\\\\begin{{cases}}         \" \\\n",
    "#                f\"   {sp.latex(subs1.simplify())} \\\\\\\\ \" \\\n",
    "#                f\"   {sp.latex(subs2.simplify())}      \" \\\n",
    "#                f\"\\\\end{{cases}}$           \" \\\n",
    "                \n",
    "# display(Markdown(fstring))\n",
    "\n",
    "# subs1 = subs1.subs(w, u + I * v).simplify()\n",
    "# subs2 = subs2.subs(w, u + I * v).simplify()\n",
    "\n",
    "# fstring: str = f\"$\\\\begin{{cases}}         \" \\\n",
    "#                f\"   {sp.latex(subs1)} \\\\\\\\ \" \\\n",
    "#                f\"   {sp.latex(subs2)}      \" \\\n",
    "#                f\"\\\\end{{cases}}$           \" \\\n",
    "\n",
    "# display(Markdown(fstring))\n",
    "\n",
    "# res1 = sp.solve(sp.Eq(subs1.lhs, subs1.rhs), v)\n",
    "# res2 = sp.solve(sp.Eq(subs1.lhs, subs1.rhs), u)\n",
    "# res3 = sp.solve(sp.Eq(subs2.lhs, subs2.rhs), v)\n",
    "# res4 = sp.solve(sp.Eq(subs2.lhs, subs2.rhs), u)\n",
    "\n",
    "# fstring: str = f\"$\\\\begin{{cases}}        \" \\\n",
    "#                f\"   {sp.latex(res1)} \\\\\\\\ \" \\\n",
    "#                f\"   {sp.latex(res2)} \\\\\\\\ \" \\\n",
    "#                f\"   {sp.latex(res3)} \\\\\\\\ \" \\\n",
    "#                f\"   {sp.latex(res4)}      \" \\\n",
    "#                f\"\\\\end{{cases}}$          \" \\\n",
    "\n",
    "# display(Markdown(fstring))\n"
   ]
  },
  {
   "cell_type": "markdown",
   "metadata": {},
   "source": [
    "<h3><center>ТФКП. Задание 16. Исследование числового ряда на сходимость.</center></h3>"
   ]
  },
  {
   "cell_type": "code",
   "execution_count": 15,
   "metadata": {},
   "outputs": [
    {
     "data": {
      "text/markdown": [
       "\\begin{equation} \\sum_{n=1}^{\\infty} \\frac{\\text{n}^{\\text{n}}}{\\left(e - i\\right)^{\\text{n}} \\text{n}!} \\end{equation}"
      ],
      "text/plain": [
       "<IPython.core.display.Markdown object>"
      ]
     },
     "metadata": {},
     "output_type": "display_data"
    }
   ],
   "source": [
    "class n(sp.NumberSymbol):\n",
    "    def __new__(self, name):\n",
    "        obj = sp.NumberSymbol.__new__(self)\n",
    "        obj._name = name\n",
    "        return obj\n",
    "\n",
    "    _as_mpf_val = sp.pi._as_mpf_val\n",
    "    approximation_interval = sp.pi.approximation_interval\n",
    "    __str__ = lambda self: str(self._name)\n",
    "\n",
    "# # # # # # # # # # # # # # # # # # # # # # # # # # # # # # # # # # # \n",
    "\n",
    "n = n('n')\n",
    "\n",
    "# z_n = 1 / ((n - I) * sp.sqrt(n))\n",
    "z_n = n**n / (sp.factorial(n)*(sp.E - I)**n)\n",
    "\n",
    "# z_n\n",
    "display(Markdown(f'\\\\begin{{equation}} \\\\sum_{{n=1}}^{{\\\\infty}} {sp.latex(z_n)} \\\\end{{equation}}'))\n"
   ]
  },
  {
   "cell_type": "code",
   "execution_count": 16,
   "metadata": {},
   "outputs": [],
   "source": [
    "def signAlternates(series) -> bool:\n",
    "\n",
    "    sign = lambda val : 'neg' if series.subs(n, val).evalf() < 0 else 'pos'\n",
    "\n",
    "    firstSign = sign(1)\n",
    "\n",
    "    for i in range(2, 100):\n",
    "        if sign(i) != firstSign:\n",
    "            return True\n",
    "    \n",
    "    return False"
   ]
  },
  {
   "cell_type": "code",
   "execution_count": 17,
   "metadata": {},
   "outputs": [],
   "source": [
    "def seriesConverges(series) -> bool:\n",
    "    pass"
   ]
  },
  {
   "cell_type": "code",
   "execution_count": 18,
   "metadata": {},
   "outputs": [],
   "source": [
    "def absSeriesConverges(series) -> bool:\n",
    "    pass"
   ]
  },
  {
   "cell_type": "code",
   "execution_count": 19,
   "metadata": {},
   "outputs": [],
   "source": [
    "def necessaryConvergenceFeature(series) -> bool:\n",
    "    pass"
   ]
  },
  {
   "cell_type": "code",
   "execution_count": 20,
   "metadata": {},
   "outputs": [],
   "source": [
    "def conditionalConvergence(series) -> bool:\n",
    "    pass"
   ]
  },
  {
   "cell_type": "code",
   "execution_count": 21,
   "metadata": {},
   "outputs": [],
   "source": [
    "def checkForConvergence(series):\n",
    "    re, im = series.as_real_imag()\n",
    "\n",
    "    if sp.latex(re).split('re') != sp.latex(im).split('im'):\n",
    "        display(Markdown(f'\\\\begin{{equation}} z_n = {sp.latex(re)} + i{sp.latex(im)} = x_n + iy_n \\\\end{{equation}}'))\n",
    "\n",
    "        def checkUTIL(miniseries) -> str:\n",
    "            \n",
    "            # # # # # # #\n",
    "            # абсолютно #\n",
    "            #  условно  # \n",
    "            #  просто   #\n",
    "            # # # # # # #\n",
    "\n",
    "            if signAlternates(miniseries):\n",
    "                if absSeriesConverges(miniseries):\n",
    "                    return 'сходится абсолютно'\n",
    "                else:\n",
    "                    if necessaryConvergenceFeature(miniseries):\n",
    "                        if conditionalConvergence(miniseries):\n",
    "                            return 'сходится условно'\n",
    "                        else:\n",
    "                            return 'расходится'\n",
    "                    else:\n",
    "                        return 'расходится'\n",
    "            else:\n",
    "                if seriesConverges(miniseries):\n",
    "                    return 'сходится'\n",
    "                else:\n",
    "                    return 'расходится'\n",
    "\n",
    "        display(Markdown(f'\\\\begin{{equation}} \\\\textrm{{ряд}} \\\\hspace*{{0.3cm}} {sp.latex(re)} \\\\hspace*{{0.3cm}} \\\\textrm{{{checkUTIL(re)}}} \\\\end{{equation}}'))\n",
    "        display(Markdown(f'\\\\begin{{equation}} \\\\textrm{{ряд}} \\\\hspace*{{0.3cm}} {sp.latex(im)} \\\\hspace*{{0.3cm}} \\\\textrm{{{checkUTIL(im)}}} \\\\end{{equation}}'))\n",
    "\n",
    "    else:\n",
    "        fstring: str = f\"\\\\begin{{equation}} \" \\\n",
    "                       f\"   \\\\textrm{{Выделить действительную и мнимую части из общего члена ряда в данной задаче крайне затруднительно, поэтому рассмотрим ряд из модулей:}} \" \\\n",
    "                       f\"\\\\end{{equation}}   \" \\\n",
    "\n",
    "        display(Markdown(fstring))\n",
    "\n",
    "        absZ_n = sp.Abs(z_n)\n",
    "\n",
    "        display(Markdown(f'\\\\begin{{equation}} \\\\sum_{{n=1}}^{{\\\\infty}} \\\\lvert z_n \\\\rvert, \\\\lvert z_n \\\\rvert = {sp.latex(absZ_n)} \\\\end{{equation}}'))\n",
    "\n",
    "        def checkUTIL(miniseries) -> str:\n",
    "            \n",
    "            # # # # # # #\n",
    "            # абсолютно #\n",
    "            #  условно  # \n",
    "            # # # # # # #\n",
    "\n",
    "            if absSeriesConverges(miniseries):\n",
    "                return 'сходится абсолютно'\n",
    "            else:\n",
    "                if necessaryConvergenceFeature(miniseries):\n",
    "                    if conditionalConvergence(miniseries):\n",
    "                        return 'сходится условно'\n",
    "                    else:\n",
    "                        return 'расходится'\n",
    "                else:\n",
    "                    return 'расходится'\n",
    "\n",
    "        display(Markdown(f'\\\\begin{{equation}} \\\\textrm{{ряд}} \\\\hspace*{{0.3cm}} {sp.latex(absZ_n)} \\\\hspace*{{0.3cm}} \\\\textrm{{{checkUTIL(absZ_n)}}} \\\\end{{equation}}'))"
   ]
  },
  {
   "cell_type": "code",
   "execution_count": 22,
   "metadata": {},
   "outputs": [
    {
     "data": {
      "text/markdown": [
       "\\begin{equation}    \\textrm{Выделить действительную и мнимую части из общего члена ряда в данной задаче крайне затруднительно, поэтому рассмотрим ряд из модулей:} \\end{equation}   "
      ],
      "text/plain": [
       "<IPython.core.display.Markdown object>"
      ]
     },
     "metadata": {},
     "output_type": "display_data"
    },
    {
     "data": {
      "text/markdown": [
       "\\begin{equation} \\sum_{n=1}^{\\infty} \\lvert z_n \\rvert, \\lvert z_n \\rvert = \\frac{\\text{n}^{\\text{n}}}{\\left(1 + e^{2}\\right)^{\\frac{\\text{n}}{2}} \\text{n}!} \\end{equation}"
      ],
      "text/plain": [
       "<IPython.core.display.Markdown object>"
      ]
     },
     "metadata": {},
     "output_type": "display_data"
    },
    {
     "data": {
      "text/markdown": [
       "\\begin{equation} \\textrm{ряд} \\hspace*{0.3cm} \\frac{\\text{n}^{\\text{n}}}{\\left(1 + e^{2}\\right)^{\\frac{\\text{n}}{2}} \\text{n}!} \\hspace*{0.3cm} \\textrm{расходится} \\end{equation}"
      ],
      "text/plain": [
       "<IPython.core.display.Markdown object>"
      ]
     },
     "metadata": {},
     "output_type": "display_data"
    }
   ],
   "source": [
    "checkForConvergence(z_n)"
   ]
  }
 ],
 "metadata": {
  "kernelspec": {
   "display_name": "Python 3",
   "language": "python",
   "name": "python3"
  },
  "language_info": {
   "codemirror_mode": {
    "name": "ipython",
    "version": 3
   },
   "file_extension": ".py",
   "mimetype": "text/x-python",
   "name": "python",
   "nbconvert_exporter": "python",
   "pygments_lexer": "ipython3",
   "version": "3.11.9"
  }
 },
 "nbformat": 4,
 "nbformat_minor": 2
}
