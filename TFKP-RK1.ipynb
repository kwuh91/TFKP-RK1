{
 "cells": [
  {
   "cell_type": "code",
   "execution_count": 27,
   "metadata": {},
   "outputs": [],
   "source": [
    "import sympy as sp\n",
    "\n",
    "from sympy.abc import x, y, z, u, v, w\n",
    "from sympy import I\n",
    "\n",
    "from IPython.display import display, Markdown"
   ]
  },
  {
   "cell_type": "markdown",
   "metadata": {},
   "source": [
    "<h3><center>ТФКП. Задание 2. Арифметические действия с комплексными числами.</center></h3>"
   ]
  },
  {
   "cell_type": "code",
   "execution_count": 28,
   "metadata": {},
   "outputs": [
    {
     "data": {
      "text/markdown": [
       "$z_1 = \\sqrt{3} - i$"
      ],
      "text/plain": [
       "<IPython.core.display.Markdown object>"
      ]
     },
     "metadata": {},
     "output_type": "display_data"
    },
    {
     "data": {
      "text/markdown": [
       "$z_2 = 2 + 2 i$"
      ],
      "text/plain": [
       "<IPython.core.display.Markdown object>"
      ]
     },
     "metadata": {},
     "output_type": "display_data"
    }
   ],
   "source": [
    "z1 = sp.sqrt(3) - I\n",
    "z2 = 2 + 2 * I\n",
    "\n",
    "display(Markdown(f'$z_1 = {sp.latex(z1)}$'))\n",
    "display(Markdown(f'$z_2 = {sp.latex(z2)}$'))"
   ]
  },
  {
   "cell_type": "markdown",
   "metadata": {},
   "source": [
    "<h5>Сложение</h5>"
   ]
  },
  {
   "cell_type": "code",
   "execution_count": 29,
   "metadata": {},
   "outputs": [
    {
     "data": {
      "text/markdown": [
       "$z_1 + z_2 = \\sqrt{3} + 2 + i$"
      ],
      "text/plain": [
       "<IPython.core.display.Markdown object>"
      ]
     },
     "metadata": {},
     "output_type": "display_data"
    },
    {
     "data": {
      "text/markdown": [
       "$answer = (\\sqrt{3} + 2) + i(1)$"
      ],
      "text/plain": [
       "<IPython.core.display.Markdown object>"
      ]
     },
     "metadata": {},
     "output_type": "display_data"
    }
   ],
   "source": [
    "sumy = z1 + z2\n",
    "\n",
    "display(Markdown(f'$z_1 + z_2 = {sp.latex(sumy)}$'))\n",
    "\n",
    "real, imaginary = sumy.as_real_imag()\n",
    "\n",
    "display(Markdown(f'$answer = ({sp.latex(real)}) + i({sp.latex(imaginary)})$'))"
   ]
  },
  {
   "cell_type": "markdown",
   "metadata": {},
   "source": [
    "<h5>Вычитание</h5>"
   ]
  },
  {
   "cell_type": "code",
   "execution_count": 30,
   "metadata": {},
   "outputs": [
    {
     "data": {
      "text/markdown": [
       "$z_1 - z_2 = -2 + \\sqrt{3} - 3 i$"
      ],
      "text/plain": [
       "<IPython.core.display.Markdown object>"
      ]
     },
     "metadata": {},
     "output_type": "display_data"
    },
    {
     "data": {
      "text/markdown": [
       "$answer = (-2 + \\sqrt{3}) + i(-3)$"
      ],
      "text/plain": [
       "<IPython.core.display.Markdown object>"
      ]
     },
     "metadata": {},
     "output_type": "display_data"
    }
   ],
   "source": [
    "diff = z1 - z2\n",
    "\n",
    "display(Markdown(f'$z_1 - z_2 = {sp.latex(diff)}$'))\n",
    "\n",
    "real, imaginary = diff.as_real_imag()\n",
    "\n",
    "display(Markdown(f'$answer = ({sp.latex(real)}) + i({sp.latex(imaginary)})$'))"
   ]
  },
  {
   "cell_type": "markdown",
   "metadata": {},
   "source": [
    "<h5>Умножение</h5>"
   ]
  },
  {
   "cell_type": "code",
   "execution_count": 31,
   "metadata": {},
   "outputs": [
    {
     "data": {
      "text/markdown": [
       "$z_1 \\cdot z_2 = 2 + 2 \\sqrt{3} - 2 i + 2 \\sqrt{3} i$"
      ],
      "text/plain": [
       "<IPython.core.display.Markdown object>"
      ]
     },
     "metadata": {},
     "output_type": "display_data"
    },
    {
     "data": {
      "text/markdown": [
       "$answer = (2 + 2 \\sqrt{3}) + i(-2 + 2 \\sqrt{3})$"
      ],
      "text/plain": [
       "<IPython.core.display.Markdown object>"
      ]
     },
     "metadata": {},
     "output_type": "display_data"
    }
   ],
   "source": [
    "product = z1 * z2\n",
    "product = product.expand()\n",
    "\n",
    "display(Markdown(f'$z_1 \\cdot z_2 = {sp.latex(product)}$'))\n",
    "\n",
    "real, imaginary = product.as_real_imag()\n",
    "\n",
    "display(Markdown(f'$answer = ({sp.latex(real)}) + i({sp.latex(imaginary)})$'))"
   ]
  },
  {
   "cell_type": "markdown",
   "metadata": {},
   "source": [
    "<h5>Деление</h5>"
   ]
  },
  {
   "cell_type": "code",
   "execution_count": 32,
   "metadata": {},
   "outputs": [
    {
     "data": {
      "text/markdown": [
       "$\\frac{z1}{z2} = - \\frac{1}{4} + \\frac{\\sqrt{3}}{4} - \\frac{\\sqrt{3} i}{4} - \\frac{i}{4}$"
      ],
      "text/plain": [
       "<IPython.core.display.Markdown object>"
      ]
     },
     "metadata": {},
     "output_type": "display_data"
    },
    {
     "data": {
      "text/markdown": [
       "$answer = (- \\frac{1}{4} + \\frac{\\sqrt{3}}{4}) + i(- \\frac{\\sqrt{3}}{4} - \\frac{1}{4})$"
      ],
      "text/plain": [
       "<IPython.core.display.Markdown object>"
      ]
     },
     "metadata": {},
     "output_type": "display_data"
    }
   ],
   "source": [
    "div = z1/z2\n",
    "div = div.expand()\n",
    "\n",
    "display(Markdown(f'$\\\\frac{{z1}}{{z2}} = {sp.latex(div)}$'))\n",
    "\n",
    "real, imaginary = div.as_real_imag()\n",
    "\n",
    "display(Markdown(f'$answer = ({sp.latex(real)}) + i({sp.latex(imaginary)})$'))"
   ]
  },
  {
   "cell_type": "code",
   "execution_count": 33,
   "metadata": {},
   "outputs": [],
   "source": [
    "def findPhi(z):\n",
    "    display(Markdown(f'$z = {sp.latex(z)}$'))\n",
    "\n",
    "    phi = sp.symbols('varphi')\n",
    "\n",
    "    r = sp.Abs(z)\n",
    "\n",
    "    display(Markdown(f'$r = \\\\lvert\\\\sqrt{{a^2 + b^2}}\\\\rvert = {sp.latex(r)}$'))\n",
    "\n",
    "    a = sp.re(z)\n",
    "    b = sp.im(z)\n",
    "\n",
    "    div1 = (a/r)\n",
    "    div2 = (b/r)\n",
    "\n",
    "    eq1 = sp.Eq(sp.cos(phi), div1)\n",
    "    eq2 = sp.Eq(sp.sin(phi), div2)\n",
    "    \n",
    "    fstring: str = f\"$\\\\begin{{cases}}                                                                       \" \\\n",
    "                   f\"   \\\\cos{{\\\\varphi}} = \\\\frac{{{sp.latex(a)}}}{{{sp.latex(r)}}} = {sp.latex(div1)} \\\\\\\\ \" \\\n",
    "                   f\"   \\\\sin{{\\\\varphi}} = \\\\frac{{{sp.latex(b)}}}{{{sp.latex(r)}}} = {sp.latex(div2)}      \" \\\n",
    "                   f\"\\\\end{{cases}}$                                                                         \" \\\n",
    "                   \n",
    "    display(Markdown(fstring))\n",
    "\n",
    "    res = sp.solve([eq1, eq2], phi)\n",
    "\n",
    "    try:\n",
    "        display(Markdown(f'$\\\\varphi = {sp.latex(res[0][0])}$'))\n",
    "    except Exception:\n",
    "        display(Markdown(f'Error occurred'))\n",
    "\n",
    "    return res[0][0]"
   ]
  },
  {
   "cell_type": "markdown",
   "metadata": {},
   "source": [
    "<h5>Возведение в степень</h5>"
   ]
  },
  {
   "cell_type": "code",
   "execution_count": 34,
   "metadata": {},
   "outputs": [],
   "source": [
    "def nPower(z, n):\n",
    "    phi = findPhi(z)\n",
    "\n",
    "    display(Markdown('$z^n = \\\\lvert z \\\\rvert ^n (\\\\cos(n \\\\varphi) + i \\\\sin(n \\\\varphi))$'))\n",
    "\n",
    "    display(Markdown(f'$({sp.latex(z)})^{n} = \\\\lvert {sp.latex(z)} \\\\rvert ^{n} (\\\\cos({n} \\\\cdot {sp.latex(phi)}) + i \\\\sin({n} \\\\cdot {sp.latex(phi)}))$'))\n",
    "\n",
    "    res = sp.Abs(z)**n * (sp.cos(n * phi) + I * sp.sin(n * phi))\n",
    "\n",
    "    display(Markdown(f'$({sp.latex(z)})^{n} = {sp.latex(res)}$'))\n",
    "\n",
    "    if (sp.latex(res) != sp.latex(res.simplify())):\n",
    "        display(Markdown(f'$({sp.latex(z)})^{n} = {sp.latex(res.simplify())}$'))\n",
    "\n",
    "    real, imaginary = res.as_real_imag()\n",
    "\n",
    "    display(Markdown(f'$answer = ({sp.latex(real)}) + i({sp.latex(imaginary)})$'))\n",
    "\n",
    "    return res"
   ]
  },
  {
   "cell_type": "code",
   "execution_count": 35,
   "metadata": {},
   "outputs": [
    {
     "data": {
      "text/markdown": [
       "$z = \\sqrt{3} - i$"
      ],
      "text/plain": [
       "<IPython.core.display.Markdown object>"
      ]
     },
     "metadata": {},
     "output_type": "display_data"
    },
    {
     "data": {
      "text/markdown": [
       "$r = \\lvert\\sqrt{a^2 + b^2}\\rvert = 2$"
      ],
      "text/plain": [
       "<IPython.core.display.Markdown object>"
      ]
     },
     "metadata": {},
     "output_type": "display_data"
    },
    {
     "data": {
      "text/markdown": [
       "$\\begin{cases}                                                                          \\cos{\\varphi} = \\frac{\\sqrt{3}}{2} = \\frac{\\sqrt{3}}{2} \\\\    \\sin{\\varphi} = \\frac{-1}{2} = - \\frac{1}{2}      \\end{cases}$                                                                         "
      ],
      "text/plain": [
       "<IPython.core.display.Markdown object>"
      ]
     },
     "metadata": {},
     "output_type": "display_data"
    },
    {
     "data": {
      "text/markdown": [
       "$\\varphi = - \\frac{\\pi}{6}$"
      ],
      "text/plain": [
       "<IPython.core.display.Markdown object>"
      ]
     },
     "metadata": {},
     "output_type": "display_data"
    },
    {
     "data": {
      "text/markdown": [
       "$z^n = \\lvert z \\rvert ^n (\\cos(n \\varphi) + i \\sin(n \\varphi))$"
      ],
      "text/plain": [
       "<IPython.core.display.Markdown object>"
      ]
     },
     "metadata": {},
     "output_type": "display_data"
    },
    {
     "data": {
      "text/markdown": [
       "$(\\sqrt{3} - i)^3 = \\lvert \\sqrt{3} - i \\rvert ^3 (\\cos(3 \\cdot - \\frac{\\pi}{6}) + i \\sin(3 \\cdot - \\frac{\\pi}{6}))$"
      ],
      "text/plain": [
       "<IPython.core.display.Markdown object>"
      ]
     },
     "metadata": {},
     "output_type": "display_data"
    },
    {
     "data": {
      "text/markdown": [
       "$(\\sqrt{3} - i)^3 = - 8 i$"
      ],
      "text/plain": [
       "<IPython.core.display.Markdown object>"
      ]
     },
     "metadata": {},
     "output_type": "display_data"
    },
    {
     "data": {
      "text/markdown": [
       "$answer = (0) + i(-8)$"
      ],
      "text/plain": [
       "<IPython.core.display.Markdown object>"
      ]
     },
     "metadata": {},
     "output_type": "display_data"
    },
    {
     "data": {
      "text/latex": [
       "$\\displaystyle - 8 i$"
      ],
      "text/plain": [
       "-8*I"
      ]
     },
     "execution_count": 35,
     "metadata": {},
     "output_type": "execute_result"
    }
   ],
   "source": [
    "z = sp.sqrt(3) - I\n",
    "nPower(z, 3)"
   ]
  },
  {
   "cell_type": "markdown",
   "metadata": {},
   "source": [
    "<h5>Извлечение корня</h5>"
   ]
  },
  {
   "cell_type": "code",
   "execution_count": 36,
   "metadata": {},
   "outputs": [],
   "source": [
    "def nRoot(z, n):\n",
    "    phi = findPhi(z)\n",
    "\n",
    "    k = sp.symbols('k', real=True)\n",
    "\n",
    "    display(Markdown('$\\\\sqrt[n]{z} = \\\\sqrt[n]{\\\\lvert z \\\\rvert} (\\\\cos(\\\\frac{\\\\varphi + 2 \\pi k}{n}) + i \\\\sin(\\\\frac{\\\\varphi + 2 \\pi k}{n})), k = 0,1, \\\\dots, n-1$'))\n",
    "\n",
    "    display(Markdown(f'$\\\\sqrt[{n}]{{{sp.latex(z)}}} = \\\\sqrt[{n}]{{\\\\lvert {sp.latex(z)} \\\\rvert}} (\\\\cos(\\\\frac{{{sp.latex(phi)} + 2 \\pi k}}{{n}}) + i \\\\sin(\\\\frac{{{sp.latex(phi)} + 2 \\pi k}}{{n}})), k = 0,1, \\\\dots, {n - 1}$'))\n",
    "\n",
    "    res = sp.root(sp.Abs(z), n) * (sp.cos((phi + 2 * sp.pi * k)/n) + I * sp.sin((phi + 2 * sp.pi * k)/n))\n",
    "\n",
    "    display(Markdown(f'$\\\\sqrt[{n}]{{{sp.latex(z)}}} = {sp.latex(res)}, k = 0,1, \\\\dots, {n - 1}$'))\n",
    "\n",
    "    if (sp.latex(res) != sp.latex(res.simplify())):\n",
    "        display(Markdown(f'$\\\\sqrt[{n}]{{{sp.latex(z)}}} = {sp.latex(res.simplify())}, k = 0,1, \\\\dots, {n - 1}$'))\n",
    "\n",
    "    real, imaginary = res.as_real_imag()\n",
    "\n",
    "    display(Markdown(f'$answer = ({sp.latex(real)}) + i({sp.latex(imaginary)})$'))\n",
    "\n",
    "    for i in range(n):\n",
    "        temp = res.subs(k, i).expand()\n",
    "\n",
    "        display(Markdown(f'$k = {i}: \\\\hspace*{{0.2cm}} {sp.latex(temp)}$'))\n",
    "\n",
    "    return res"
   ]
  },
  {
   "cell_type": "code",
   "execution_count": 37,
   "metadata": {},
   "outputs": [
    {
     "data": {
      "text/markdown": [
       "$z = -16$"
      ],
      "text/plain": [
       "<IPython.core.display.Markdown object>"
      ]
     },
     "metadata": {},
     "output_type": "display_data"
    },
    {
     "data": {
      "text/markdown": [
       "$r = \\lvert\\sqrt{a^2 + b^2}\\rvert = 16$"
      ],
      "text/plain": [
       "<IPython.core.display.Markdown object>"
      ]
     },
     "metadata": {},
     "output_type": "display_data"
    },
    {
     "data": {
      "text/markdown": [
       "$\\begin{cases}                                                                          \\cos{\\varphi} = \\frac{-16}{16} = -1 \\\\    \\sin{\\varphi} = \\frac{0}{16} = 0      \\end{cases}$                                                                         "
      ],
      "text/plain": [
       "<IPython.core.display.Markdown object>"
      ]
     },
     "metadata": {},
     "output_type": "display_data"
    },
    {
     "data": {
      "text/markdown": [
       "$\\varphi = \\pi$"
      ],
      "text/plain": [
       "<IPython.core.display.Markdown object>"
      ]
     },
     "metadata": {},
     "output_type": "display_data"
    },
    {
     "data": {
      "text/markdown": [
       "$\\sqrt[n]{z} = \\sqrt[n]{\\lvert z \\rvert} (\\cos(\\frac{\\varphi + 2 \\pi k}{n}) + i \\sin(\\frac{\\varphi + 2 \\pi k}{n})), k = 0,1, \\dots, n-1$"
      ],
      "text/plain": [
       "<IPython.core.display.Markdown object>"
      ]
     },
     "metadata": {},
     "output_type": "display_data"
    },
    {
     "data": {
      "text/markdown": [
       "$\\sqrt[4]{-16} = \\sqrt[4]{\\lvert -16 \\rvert} (\\cos(\\frac{\\pi + 2 \\pi k}{n}) + i \\sin(\\frac{\\pi + 2 \\pi k}{n})), k = 0,1, \\dots, 3$"
      ],
      "text/plain": [
       "<IPython.core.display.Markdown object>"
      ]
     },
     "metadata": {},
     "output_type": "display_data"
    },
    {
     "data": {
      "text/markdown": [
       "$\\sqrt[4]{-16} = 2 i \\sin{\\left(\\frac{\\pi k}{2} + \\frac{\\pi}{4} \\right)} + 2 \\cos{\\left(\\frac{\\pi k}{2} + \\frac{\\pi}{4} \\right)}, k = 0,1, \\dots, 3$"
      ],
      "text/plain": [
       "<IPython.core.display.Markdown object>"
      ]
     },
     "metadata": {},
     "output_type": "display_data"
    },
    {
     "data": {
      "text/markdown": [
       "$\\sqrt[4]{-16} = 2 e^{i \\pi \\left(\\frac{k}{2} + \\frac{1}{4}\\right)}, k = 0,1, \\dots, 3$"
      ],
      "text/plain": [
       "<IPython.core.display.Markdown object>"
      ]
     },
     "metadata": {},
     "output_type": "display_data"
    },
    {
     "data": {
      "text/markdown": [
       "$answer = (2 \\cos{\\left(\\frac{\\pi k}{2} + \\frac{\\pi}{4} \\right)}) + i(2 \\sin{\\left(\\frac{\\pi k}{2} + \\frac{\\pi}{4} \\right)})$"
      ],
      "text/plain": [
       "<IPython.core.display.Markdown object>"
      ]
     },
     "metadata": {},
     "output_type": "display_data"
    },
    {
     "data": {
      "text/markdown": [
       "$k = 0: \\hspace*{0.2cm} \\sqrt{2} + \\sqrt{2} i$"
      ],
      "text/plain": [
       "<IPython.core.display.Markdown object>"
      ]
     },
     "metadata": {},
     "output_type": "display_data"
    },
    {
     "data": {
      "text/markdown": [
       "$k = 1: \\hspace*{0.2cm} - \\sqrt{2} + \\sqrt{2} i$"
      ],
      "text/plain": [
       "<IPython.core.display.Markdown object>"
      ]
     },
     "metadata": {},
     "output_type": "display_data"
    },
    {
     "data": {
      "text/markdown": [
       "$k = 2: \\hspace*{0.2cm} - \\sqrt{2} - \\sqrt{2} i$"
      ],
      "text/plain": [
       "<IPython.core.display.Markdown object>"
      ]
     },
     "metadata": {},
     "output_type": "display_data"
    },
    {
     "data": {
      "text/markdown": [
       "$k = 3: \\hspace*{0.2cm} \\sqrt{2} - \\sqrt{2} i$"
      ],
      "text/plain": [
       "<IPython.core.display.Markdown object>"
      ]
     },
     "metadata": {},
     "output_type": "display_data"
    },
    {
     "data": {
      "text/latex": [
       "$\\displaystyle 2 i \\sin{\\left(\\frac{\\pi k}{2} + \\frac{\\pi}{4} \\right)} + 2 \\cos{\\left(\\frac{\\pi k}{2} + \\frac{\\pi}{4} \\right)}$"
      ],
      "text/plain": [
       "2*I*sin(pi*k/2 + pi/4) + 2*cos(pi*k/2 + pi/4)"
      ]
     },
     "execution_count": 37,
     "metadata": {},
     "output_type": "execute_result"
    }
   ],
   "source": [
    "z = -16\n",
    "nRoot(sp.conjugate(z), 4)"
   ]
  },
  {
   "cell_type": "markdown",
   "metadata": {},
   "source": [
    "<h3><center>ТФКП. Задание 4. Вычисление значения функции в точке.</center></h3>"
   ]
  },
  {
   "cell_type": "code",
   "execution_count": 38,
   "metadata": {},
   "outputs": [],
   "source": [
    "def powerFunc(z, alpha):\n",
    "    display(Markdown('$z^ \\\\alpha = e^ {\\\\alpha Ln z} = e^ {\\\\alpha (ln \\\\lvert z \\\\rvert + i arg(z) + i 2 \\\\pi k)}$'))\n",
    "\n",
    "    k = sp.symbols('k', real=True)\n",
    "\n",
    "    return sp.exp(alpha * (sp.ln(sp.Abs(z)) + I * sp.arg(z) + I * 2 * sp.pi * k))"
   ]
  },
  {
   "cell_type": "code",
   "execution_count": 39,
   "metadata": {},
   "outputs": [
    {
     "data": {
      "text/markdown": [
       "$z^ \\alpha = e^ {\\alpha Ln z} = e^ {\\alpha (ln \\lvert z \\rvert + i arg(z) + i 2 \\pi k)}$"
      ],
      "text/plain": [
       "<IPython.core.display.Markdown object>"
      ]
     },
     "metadata": {},
     "output_type": "display_data"
    },
    {
     "data": {
      "text/markdown": [
       "$e^{2 i \\left(2 i \\pi k - \\frac{i \\pi}{2}\\right)}$"
      ],
      "text/plain": [
       "<IPython.core.display.Markdown object>"
      ]
     },
     "metadata": {},
     "output_type": "display_data"
    },
    {
     "data": {
      "text/markdown": [
       "$answer = (e^{- 4 \\pi k + \\pi}) + i(0)$"
      ],
      "text/plain": [
       "<IPython.core.display.Markdown object>"
      ]
     },
     "metadata": {},
     "output_type": "display_data"
    },
    {
     "data": {
      "text/markdown": [
       "$answer = (e^{\\pi \\left(1 - 4 k\\right)}) + i(0)$"
      ],
      "text/plain": [
       "<IPython.core.display.Markdown object>"
      ]
     },
     "metadata": {},
     "output_type": "display_data"
    }
   ],
   "source": [
    "# z = sp.sqrt(2) + (I * sp.pi) / 4\n",
    "# z = sp.ln(4) - (I * sp.pi) / 3\n",
    "z = 1 / I\n",
    "\n",
    "# w = sp.exp(z)\n",
    "# w = sp.tanh(z)\n",
    "w = powerFunc(z, 2 * I)\n",
    "\n",
    "display(Markdown(f'${sp.latex(w)}$'))\n",
    "\n",
    "real, imaginary = w.as_real_imag()\n",
    "\n",
    "display(Markdown(f'$answer = ({sp.latex(real)}) + i({sp.latex(imaginary)})$'))\n",
    "display(Markdown(f'$answer = ({sp.latex(real.simplify())}) + i({sp.latex(imaginary.simplify())})$'))"
   ]
  },
  {
   "cell_type": "markdown",
   "metadata": {},
   "source": [
    "<h3><center>ТФКП. Задание 8. Отображение дробно-линейной функцией.(ERROR)</center></h3>"
   ]
  },
  {
   "cell_type": "code",
   "execution_count": 40,
   "metadata": {},
   "outputs": [],
   "source": [
    "# z, w = sp.symbols('z omega')\n",
    "\n",
    "# u, v = sp.symbols('u v', real=True)\n",
    "\n",
    "# # expr1 = sp.Abs(z - 1 - I) >= sp.sqrt(2)\n",
    "# expr1 = sp.Abs(z - sp.sqrt(3)) >= 2\n",
    "# # expr1 = sp.Eq(sp.Abs(z - sp.sqrt(3)), 2, evaluate=False)\n",
    "# # expr1 = sp.Abs(z - sp.sqrt(3)) - 2\n",
    "# # expr2 = sp.Eq(sp.Abs(z), 1, evaluate=False)\n",
    "# expr2 = sp.Abs(z) <= 1\n",
    "\n",
    "# omegaExpr = sp.Eq(w, (- I * z - 1)/(z + I))\n",
    "# # omegaExpr = sp.Eq(w, ((1 + I) * z + 2 - 2 * I)/(z))\n",
    "\n",
    "# fstring: str = f\"$\\\\begin{{cases}}         \" \\\n",
    "#                f\"   {sp.latex(expr1)} \\\\\\\\ \" \\\n",
    "#                f\"   {sp.latex(expr2)}      \" \\\n",
    "#                f\"\\\\end{{cases}}$           \" \\\n",
    "                \n",
    "# display(Markdown(fstring))\n",
    "\n",
    "# display(Markdown(f'${sp.latex(omegaExpr)}$'))\n",
    "\n",
    "# z_extracted = sp.solve(omegaExpr, z)[0]\n",
    "\n",
    "# display(Markdown(f'$z = {sp.latex(z_extracted)}$'))\n",
    "\n",
    "# subs1 = expr1.subs(z, z_extracted).simplify()\n",
    "# subs2 = expr2.subs(z, z_extracted).simplify()\n",
    "\n",
    "# fstring: str = f\"$\\\\begin{{cases}}         \" \\\n",
    "#                f\"   {sp.latex(subs1)} \\\\\\\\ \" \\\n",
    "#                f\"   {sp.latex(subs2)}      \" \\\n",
    "#                f\"\\\\end{{cases}}$           \" \\\n",
    "                \n",
    "# display(Markdown(fstring))\n",
    "\n",
    "# num1, den1 = sp.fraction(subs1.args[0].args[0])\n",
    "# num2, den2 = sp.fraction(subs2.args[0].args[0])\n",
    "\n",
    "# subs1 = subs1.lhs * sp.Abs(den1) >= subs1.rhs * sp.Abs(den1)\n",
    "# subs2 = subs2.lhs * sp.Abs(den2) >= subs2.rhs * sp.Abs(den2)\n",
    "\n",
    "# fstring: str = f\"$\\\\begin{{cases}}         \" \\\n",
    "#                f\"   {sp.latex(subs1)} \\\\\\\\ \" \\\n",
    "#                f\"   {sp.latex(subs2)}      \" \\\n",
    "#                f\"\\\\end{{cases}}$           \" \\\n",
    "                \n",
    "# display(Markdown(fstring))\n",
    "\n",
    "# fstring: str = f\"$\\\\begin{{cases}}         \" \\\n",
    "#                f\"   {sp.latex(subs1.simplify())} \\\\\\\\ \" \\\n",
    "#                f\"   {sp.latex(subs2.simplify())}      \" \\\n",
    "#                f\"\\\\end{{cases}}$           \" \\\n",
    "                \n",
    "# display(Markdown(fstring))\n",
    "\n",
    "# subs1 = subs1.subs(w, u + I * v).simplify()\n",
    "# subs2 = subs2.subs(w, u + I * v).simplify()\n",
    "\n",
    "# fstring: str = f\"$\\\\begin{{cases}}         \" \\\n",
    "#                f\"   {sp.latex(subs1)} \\\\\\\\ \" \\\n",
    "#                f\"   {sp.latex(subs2)}      \" \\\n",
    "#                f\"\\\\end{{cases}}$           \" \\\n",
    "\n",
    "# display(Markdown(fstring))\n",
    "\n",
    "# res1 = sp.solve(sp.Eq(subs1.lhs, subs1.rhs), v)\n",
    "# res2 = sp.solve(sp.Eq(subs1.lhs, subs1.rhs), u)\n",
    "# res3 = sp.solve(sp.Eq(subs2.lhs, subs2.rhs), v)\n",
    "# res4 = sp.solve(sp.Eq(subs2.lhs, subs2.rhs), u)\n",
    "\n",
    "# fstring: str = f\"$\\\\begin{{cases}}        \" \\\n",
    "#                f\"   {sp.latex(res1)} \\\\\\\\ \" \\\n",
    "#                f\"   {sp.latex(res2)} \\\\\\\\ \" \\\n",
    "#                f\"   {sp.latex(res3)} \\\\\\\\ \" \\\n",
    "#                f\"   {sp.latex(res4)}      \" \\\n",
    "#                f\"\\\\end{{cases}}$          \" \\\n",
    "\n",
    "# display(Markdown(fstring))\n"
   ]
  },
  {
   "cell_type": "markdown",
   "metadata": {},
   "source": [
    "<h3><center>ТФКП. Задание 16. Исследование числового ряда на сходимость.</center></h3>"
   ]
  },
  {
   "cell_type": "code",
   "execution_count": 41,
   "metadata": {},
   "outputs": [],
   "source": [
    "class n(sp.NumberSymbol):\n",
    "    def __new__(self, name):\n",
    "        obj = sp.NumberSymbol.__new__(self)\n",
    "        obj._name = name\n",
    "        return obj\n",
    "\n",
    "    _as_mpf_val = sp.pi._as_mpf_val\n",
    "    approximation_interval = sp.pi.approximation_interval\n",
    "    __str__ = lambda self: str(self._name)"
   ]
  },
  {
   "cell_type": "code",
   "execution_count": 42,
   "metadata": {},
   "outputs": [],
   "source": [
    "def signAlternates(series, fromm, to) -> bool:\n",
    "\n",
    "    sign = lambda val : 'neg' if series.subs(n, val).evalf() < 0 else 'pos'\n",
    "\n",
    "    firstSign = sign(fromm)\n",
    "\n",
    "    for i in range(fromm + 1, fromm + 100):\n",
    "        if sign(i) != firstSign:\n",
    "            return True\n",
    "    \n",
    "    return False"
   ]
  },
  {
   "cell_type": "code",
   "execution_count": 43,
   "metadata": {},
   "outputs": [],
   "source": [
    "def seriesConverges(series, fromm, to) -> bool:\n",
    "    temp = sp.symbols('temp')\n",
    "    tempSeries = series.subs(n, temp)\n",
    "\n",
    "    # признак Даламбера\n",
    "    isDalamber: bool\n",
    "\n",
    "    Dalamber = sp.limit(tempSeries.subs(temp, temp + 1)/tempSeries, temp, to)\n",
    "\n",
    "    try:\n",
    "        if Dalamber < 1:\n",
    "            isDalamber = True\n",
    "            print(\"Ряд сходится (по признаку Даламбера)\")\n",
    "        elif Dalamber > 1:\n",
    "            isDalamber = False\n",
    "            print(\"Ряд расходится (по признаку Даламбера)\")\n",
    "        else:\n",
    "            isDalamber = False\n",
    "            print(\"Тест Даламбера не дает определенного результата\")\n",
    "    except:\n",
    "        isDalamber = False\n",
    "        print(f\"An error has ocurred (по признаку Даламбера)\")\n",
    "\n",
    "    # радикальный признак Коши\n",
    "    isRadicalKoshi: bool\n",
    "\n",
    "    RadicalKoshi = sp.limit(sp.root(tempSeries, temp), temp, to)\n",
    "\n",
    "    try:\n",
    "        if RadicalKoshi < 1:\n",
    "            isRadicalKoshi = True\n",
    "            print(\"Ряд сходится (по радикальному признаку Коши)\")\n",
    "        elif RadicalKoshi > 1:\n",
    "            isRadicalKoshi = False\n",
    "            print(\"Ряд расходится (по радикальному признаку Коши)\")\n",
    "        else:\n",
    "            isRadicalKoshi = False\n",
    "            print(\"Радикальный признак Коши не дает определенного результата\")\n",
    "    except:\n",
    "        isRadicalKoshi = False\n",
    "        print(f\"An error has ocurred (по радикальному признаку Коши)\")\n",
    "\n",
    "    # summation\n",
    "    # isSummation: bool\n",
    "\n",
    "    # result = sp.summation(tempSeries, (temp, fromm, to))\n",
    "    # if result is None:\n",
    "    #     # isSummation = False\n",
    "    #     print(\"Ряд расходится (summation)\")\n",
    "    # else:\n",
    "    #     # isSummation = True\n",
    "    #     display(Markdown(f'Ряд сходится (summation) к ${sp.latex(result)}$'))\n",
    "\n",
    "    # Sum\n",
    "    isSum: bool\n",
    "\n",
    "    result = sp.Sum(tempSeries, (temp, fromm, to))\n",
    "\n",
    "    try:\n",
    "        if result.is_convergent():\n",
    "            isSum = True\n",
    "            print(\"Ряд сходится (Sum)\")\n",
    "        else:\n",
    "            isSum = False\n",
    "            print(\"Ряд расходится (Sum)\")\n",
    "    except:\n",
    "        isSum = False\n",
    "        print(f\"An error has ocurred (Sum)\")\n",
    "\n",
    "    return isDalamber or isRadicalKoshi or isSum"
   ]
  },
  {
   "cell_type": "code",
   "execution_count": 44,
   "metadata": {},
   "outputs": [],
   "source": [
    "def necessaryConvergenceFeature(series, fromm, to) -> bool:\n",
    "    temp = sp.symbols('temp')\n",
    "\n",
    "    res = sp.limit(series.subs(n, temp), temp, to)\n",
    "\n",
    "    if 'lim' in sp.latex(res):\n",
    "        print(f'couldn\\'t evaluate limit in necessaryConvergenceFeature ({sp.latex(res)})')\n",
    "        return False\n",
    "    \n",
    "    if res == 0:\n",
    "        print(\"Необходимый признак выполняется\")\n",
    "        return True\n",
    "    else:\n",
    "        print(\"Необходимый признак не выполняется\")\n",
    "        return False"
   ]
  },
  {
   "cell_type": "code",
   "execution_count": 45,
   "metadata": {},
   "outputs": [],
   "source": [
    "def conditionalConvergence(series, fromm, to) -> bool:\n",
    "    print(f'предполагаем, что ряд - знакочередующийся и используем признак Лейбница')\n",
    "\n",
    "    temp = sp.symbols('temp')\n",
    "\n",
    "    res = sp.limit(series.subs(n, temp), temp, to)\n",
    "\n",
    "    if 'lim' in sp.latex(res):\n",
    "        print(f'couldn\\'t evaluate limit in conditionalConvergence ({sp.latex(res)})')\n",
    "        return False\n",
    "\n",
    "    if res == 0:\n",
    "        print(\"Признак Лейбница выполняется\")\n",
    "        return True\n",
    "    else:\n",
    "        print(\"Признак Лейбница не выполняется\")\n",
    "        return False"
   ]
  },
  {
   "cell_type": "code",
   "execution_count": 46,
   "metadata": {},
   "outputs": [],
   "source": [
    "def checkForConvergence(series, fromm, to):\n",
    "    re, im = series.as_real_imag()\n",
    "\n",
    "    if sp.latex(re).split('re') != sp.latex(im).split('im'):\n",
    "        display(Markdown(f'\\\\begin{{equation}} z_n = {sp.latex(re)} + i{sp.latex(im)} = x_n + iy_n \\\\end{{equation}}'))\n",
    "\n",
    "        def checkUTIL(miniseries) -> str:\n",
    "            \n",
    "            # # # # # # #\n",
    "            # абсолютно #\n",
    "            #  условно  # \n",
    "            #  просто   #\n",
    "            # # # # # # #\n",
    "\n",
    "            if signAlternates(miniseries, fromm, to):\n",
    "                if seriesConverges(sp.Abs(miniseries), fromm, to):\n",
    "                    return 'сходится абсолютно'\n",
    "                else:\n",
    "                    if necessaryConvergenceFeature(miniseries, fromm, to):\n",
    "                        if conditionalConvergence(sp.Abs(miniseries), fromm, to):\n",
    "                            return 'сходится условно'\n",
    "                        else:\n",
    "                            return 'расходится'\n",
    "                    else:\n",
    "                        return 'расходится'\n",
    "            else:\n",
    "                if seriesConverges(miniseries, fromm, to):\n",
    "                    return 'сходится'\n",
    "                else:\n",
    "                    return 'расходится'\n",
    "\n",
    "        display(Markdown(f'\\\\begin{{equation}} \\\\textrm{{ряд}} \\\\hspace*{{0.3cm}} {sp.latex(re)} \\\\hspace*{{0.3cm}} \\\\textrm{{{checkUTIL(re)}}} \\\\end{{equation}}'))\n",
    "        display(Markdown(f'\\\\begin{{equation}} \\\\textrm{{ряд}} \\\\hspace*{{0.3cm}} {sp.latex(im)} \\\\hspace*{{0.3cm}} \\\\textrm{{{checkUTIL(im)}}} \\\\end{{equation}}'))\n",
    "\n",
    "    else:\n",
    "        fstring: str = f\"\\\\begin{{equation}} \" \\\n",
    "                       f\"   \\\\textrm{{Выделить действительную и мнимую части из общего члена ряда в данной задаче крайне затруднительно, поэтому рассмотрим ряд из модулей:}} \" \\\n",
    "                       f\"\\\\end{{equation}}   \" \\\n",
    "\n",
    "        display(Markdown(fstring))\n",
    "\n",
    "        absZ_n = sp.Abs(series)\n",
    "\n",
    "        display(Markdown(f'\\\\begin{{equation}} \\\\sum_{{n=1}}^{{\\\\infty}} \\\\lvert z_n \\\\rvert, \\\\lvert z_n \\\\rvert = {sp.latex(absZ_n)} \\\\end{{equation}}'))\n",
    "\n",
    "        def checkUTIL(miniseries) -> str:\n",
    "            \n",
    "            # # # # # # #\n",
    "            # абсолютно #\n",
    "            #  условно  # \n",
    "            # # # # # # #\n",
    "\n",
    "            if seriesConverges(miniseries, fromm, to):\n",
    "                return 'сходится абсолютно'\n",
    "            else:\n",
    "                if necessaryConvergenceFeature(miniseries, fromm, to):\n",
    "                    if conditionalConvergence(miniseries, fromm, to):\n",
    "                        return 'сходится условно'\n",
    "                    else:\n",
    "                        return 'расходится'\n",
    "                else:\n",
    "                    return 'расходится'\n",
    "\n",
    "        display(Markdown(f'\\\\begin{{equation}} \\\\textrm{{ряд}} \\\\hspace*{{0.3cm}} {sp.latex(absZ_n)} \\\\hspace*{{0.3cm}} \\\\textrm{{{checkUTIL(absZ_n)}}} \\\\end{{equation}}'))"
   ]
  },
  {
   "cell_type": "code",
   "execution_count": 47,
   "metadata": {},
   "outputs": [
    {
     "data": {
      "text/markdown": [
       "\\begin{equation} \\sum_{n=1}^{\\infty} \\frac{\\text{n}^{\\text{n}}}{\\left(e - i\\right)^{\\text{n}} \\text{n}!} \\end{equation}"
      ],
      "text/plain": [
       "<IPython.core.display.Markdown object>"
      ]
     },
     "metadata": {},
     "output_type": "display_data"
    },
    {
     "data": {
      "text/markdown": [
       "\\begin{equation}    \\textrm{Выделить действительную и мнимую части из общего члена ряда в данной задаче крайне затруднительно, поэтому рассмотрим ряд из модулей:} \\end{equation}   "
      ],
      "text/plain": [
       "<IPython.core.display.Markdown object>"
      ]
     },
     "metadata": {},
     "output_type": "display_data"
    },
    {
     "data": {
      "text/markdown": [
       "\\begin{equation} \\sum_{n=1}^{\\infty} \\lvert z_n \\rvert, \\lvert z_n \\rvert = \\frac{\\text{n}^{\\text{n}}}{\\left(1 + e^{2}\\right)^{\\frac{\\text{n}}{2}} \\text{n}!} \\end{equation}"
      ],
      "text/plain": [
       "<IPython.core.display.Markdown object>"
      ]
     },
     "metadata": {},
     "output_type": "display_data"
    },
    {
     "name": "stdout",
     "output_type": "stream",
     "text": [
      "Ряд сходится (по признаку Даламбера)\n",
      "Ряд сходится (по радикальному признаку Коши)\n",
      "Ряд сходится (Sum)\n"
     ]
    },
    {
     "data": {
      "text/markdown": [
       "\\begin{equation} \\textrm{ряд} \\hspace*{0.3cm} \\frac{\\text{n}^{\\text{n}}}{\\left(1 + e^{2}\\right)^{\\frac{\\text{n}}{2}} \\text{n}!} \\hspace*{0.3cm} \\textrm{сходится абсолютно} \\end{equation}"
      ],
      "text/plain": [
       "<IPython.core.display.Markdown object>"
      ]
     },
     "metadata": {},
     "output_type": "display_data"
    }
   ],
   "source": [
    "n = n('n')\n",
    "\n",
    "# z_n = 1 / ((n - I) * sp.sqrt(n))\n",
    "z_n = n**n / (sp.factorial(n)*(sp.E - I)**n)\n",
    "# z_n = (I * n)**(2*n)/(sp.factorial(n))**2\n",
    "# z_n = sp.sinh(I * n)/(n * sp.ln(n))\n",
    "# z_n = (3 + 2 * I)**n/(sp.cos(I * n))\n",
    "# z_n = sp.cosh((I * sp.pi)/n)/sp.ln(n) \n",
    "\n",
    "fromm = 1\n",
    "to = sp.oo\n",
    "\n",
    "display(Markdown(f'\\\\begin{{equation}} \\\\sum_{{n=1}}^{{\\\\infty}} {sp.latex(z_n)} \\\\end{{equation}}'))\n",
    "\n",
    "checkForConvergence(z_n, fromm, to)"
   ]
  },
  {
   "cell_type": "markdown",
   "metadata": {},
   "source": [
    "<h3><center>ТФКП. Задание 17. Вычисление интеграла от функции комплексного переменного по заданному пути.</center></h3>"
   ]
  },
  {
   "cell_type": "code",
   "execution_count": 48,
   "metadata": {},
   "outputs": [],
   "source": [
    "def checkAnalyt(u, v) -> bool:\n",
    "\n",
    "    fstring: str = f\"\\\\begin{{cases}}                 \" \\\n",
    "                   f\"   \\\\frac{{\\\\partial u}}{{\\\\partial x}} = \\\\frac{{\\\\partial v}}{{\\\\partial y}} \\\\\\\\ \" \\\n",
    "                   f\"   \\\\frac{{\\\\partial u}}{{\\\\partial y}} = -\\\\frac{{\\\\partial v}}{{\\\\partial x}}     \" \\\n",
    "                   f\"\\\\end{{cases}}                   \" \\\n",
    "                \n",
    "    display(Markdown(fstring))\n",
    "\n",
    "    Ux = sp.diff(u, x)\n",
    "    Vy = sp.diff(v, y)\n",
    "    Uy = sp.diff(u, y)\n",
    "    Vx = sp.diff(v, x)\n",
    "\n",
    "    fstring: str = f\"\\\\begin{{cases}}    \" \\\n",
    "                   f\"   {sp.latex(Ux)} = {sp.latex(Vy)} \\\\\\\\ \" \\\n",
    "                   f\"   {sp.latex(Uy)} = -{sp.latex(Vx)}     \" \\\n",
    "                   f\"\\\\end{{cases}}      \" \\\n",
    "\n",
    "    display(Markdown(fstring))\n",
    "\n",
    "    if Ux == Vy and Uy == -Vx:\n",
    "        fstring: str = f\"\\\\begin{{equation}}                  \" \\\n",
    "                       f\"   \\\\textrm{{Функция аналитическая}} \" \\\n",
    "                       f\"\\\\end{{equation}}                    \" \\\n",
    "\n",
    "        display(Markdown(fstring))\n",
    "\n",
    "        return True\n",
    "    else:\n",
    "        fstring: str = f\"\\\\begin{{equation}}                    \" \\\n",
    "                       f\"   \\\\textrm{{Функция неаналитическая}} \" \\\n",
    "                       f\"\\\\end{{equation}}                      \" \\\n",
    "\n",
    "        display(Markdown(fstring))\n",
    "\n",
    "        return False"
   ]
  },
  {
   "cell_type": "code",
   "execution_count": 49,
   "metadata": {},
   "outputs": [],
   "source": [
    "def NewtonLeibniz(f):\n",
    "    print('Вычисляется по формуле Ньютона-Лейбница') \n",
    "    pass"
   ]
  },
  {
   "cell_type": "code",
   "execution_count": 50,
   "metadata": {},
   "outputs": [
    {
     "data": {
      "text/markdown": [
       "\\begin{equation} \\int_C \\cosh{\\left(\\overline{z} \\right)} \\,dz \\end{equation}"
      ],
      "text/plain": [
       "<IPython.core.display.Markdown object>"
      ]
     },
     "metadata": {},
     "output_type": "display_data"
    },
    {
     "data": {
      "text/markdown": [
       "\\begin{equation} f(z) = \\cosh{\\left(x - i y \\right)}  \\end{equation}"
      ],
      "text/plain": [
       "<IPython.core.display.Markdown object>"
      ]
     },
     "metadata": {},
     "output_type": "display_data"
    },
    {
     "data": {
      "text/markdown": [
       "\\begin{cases}                    u(x, y) = \\cos{\\left(y \\right)} \\cosh{\\left(x \\right)} \\\\    v(x, y) = - \\sin{\\left(y \\right)} \\sinh{\\left(x \\right)}      \\end{cases}                   "
      ],
      "text/plain": [
       "<IPython.core.display.Markdown object>"
      ]
     },
     "metadata": {},
     "output_type": "display_data"
    },
    {
     "data": {
      "text/markdown": [
       "\\begin{cases}                    \\frac{\\partial u}{\\partial x} = \\frac{\\partial v}{\\partial y} \\\\    \\frac{\\partial u}{\\partial y} = -\\frac{\\partial v}{\\partial x}     \\end{cases}                   "
      ],
      "text/plain": [
       "<IPython.core.display.Markdown object>"
      ]
     },
     "metadata": {},
     "output_type": "display_data"
    },
    {
     "data": {
      "text/markdown": [
       "\\begin{cases}       \\cos{\\left(y \\right)} \\sinh{\\left(x \\right)} = - \\cos{\\left(y \\right)} \\sinh{\\left(x \\right)} \\\\    - \\sin{\\left(y \\right)} \\cosh{\\left(x \\right)} = -- \\sin{\\left(y \\right)} \\cosh{\\left(x \\right)}     \\end{cases}      "
      ],
      "text/plain": [
       "<IPython.core.display.Markdown object>"
      ]
     },
     "metadata": {},
     "output_type": "display_data"
    },
    {
     "data": {
      "text/markdown": [
       "\\begin{equation}                       \\textrm{Функция неаналитическая} \\end{equation}                      "
      ],
      "text/plain": [
       "<IPython.core.display.Markdown object>"
      ]
     },
     "metadata": {},
     "output_type": "display_data"
    },
    {
     "data": {
      "text/markdown": [
       "\\begin{cases}                x(t) = \\frac{3 \\pi t}{2} - \\frac{3 \\pi}{2} \\\\    y(t) = \\frac{3 \\pi t}{2}      \\end{cases}               "
      ],
      "text/plain": [
       "<IPython.core.display.Markdown object>"
      ]
     },
     "metadata": {},
     "output_type": "display_data"
    },
    {
     "data": {
      "text/markdown": [
       "\\begin{equation} t \\in [0, 1] \\end{equation}"
      ],
      "text/plain": [
       "<IPython.core.display.Markdown object>"
      ]
     },
     "metadata": {},
     "output_type": "display_data"
    },
    {
     "data": {
      "text/markdown": [
       "\\begin{equation} f(z(t)) = \\cosh{\\left(- \\frac{3 \\pi t}{2} + \\frac{3 i \\pi t}{2} + \\frac{3 \\pi}{2} \\right)} \\end{equation}"
      ],
      "text/plain": [
       "<IPython.core.display.Markdown object>"
      ]
     },
     "metadata": {},
     "output_type": "display_data"
    },
    {
     "data": {
      "text/markdown": [
       "\\begin{equation} z'(t) = \\frac{3 \\pi}{2} + \\frac{3 i \\pi}{2} \\end{equation}"
      ],
      "text/plain": [
       "<IPython.core.display.Markdown object>"
      ]
     },
     "metadata": {},
     "output_type": "display_data"
    },
    {
     "data": {
      "text/markdown": [
       "\\begin{equation} \\int_C \\cosh{\\left(\\overline{z} \\right)} \\,dz = \\int_{t_0}^{t_1} f(z(t)) z'(t) \\,dt =  \\int_0^1 \\frac{3 \\pi \\left(1 + i\\right) \\cosh{\\left(\\frac{3 \\pi \\left(- t + i t + 1\\right)}{2} \\right)}}{2} \\,dt \\end{equation}"
      ],
      "text/plain": [
       "<IPython.core.display.Markdown object>"
      ]
     },
     "metadata": {},
     "output_type": "display_data"
    },
    {
     "data": {
      "text/markdown": [
       "\\begin{equation} answer = - \\frac{i \\left(-1 - i\\right) \\left(1 + i\\right)}{2} - \\frac{\\left(-1 - i\\right) \\left(1 + i\\right) \\sinh{\\left(\\frac{3 \\pi}{2} \\right)}}{2} \\end{equation}"
      ],
      "text/plain": [
       "<IPython.core.display.Markdown object>"
      ]
     },
     "metadata": {},
     "output_type": "display_data"
    },
    {
     "data": {
      "text/markdown": [
       "\\begin{equation} answer = -1 + i \\sinh{\\left(\\frac{3 \\pi}{2} \\right)} \\end{equation}"
      ],
      "text/plain": [
       "<IPython.core.display.Markdown object>"
      ]
     },
     "metadata": {},
     "output_type": "display_data"
    },
    {
     "data": {
      "text/markdown": [
       "\\begin{equation} answer = (-1) + i(\\sinh{\\left(\\frac{3 \\pi}{2} \\right)})\\end{equation}"
      ],
      "text/plain": [
       "<IPython.core.display.Markdown object>"
      ]
     },
     "metadata": {},
     "output_type": "display_data"
    },
    {
     "data": {
      "text/markdown": [
       "\\begin{equation} answer = (-1) + i(\\sinh{\\left(\\frac{3 \\pi}{2} \\right)})\\end{equation}"
      ],
      "text/plain": [
       "<IPython.core.display.Markdown object>"
      ]
     },
     "metadata": {},
     "output_type": "display_data"
    }
   ],
   "source": [
    "x, y = sp.symbols('x y', real=True)\n",
    "z = sp.symbols('z')\n",
    "\n",
    "# integral = sp.cos(sp.conjugate(z))\n",
    "\n",
    "# point1 = -I * (3 * sp.pi / 2)\n",
    "# point2 = 3 * sp.pi / 2\n",
    "\n",
    "# integral = sp.cosh(sp.conjugate(z))\n",
    "\n",
    "# point1 = 0\n",
    "# point2 = sp.pi / 4 + I * (sp.pi / 4)\n",
    "\n",
    "# integral = sp.cos(sp.conjugate(z))\n",
    "\n",
    "# point1 = 0\n",
    "# point2 = sp.pi / 4 + I * (sp.pi / 4)\n",
    "\n",
    "# integral = sp.sinh(sp.conjugate(z))\n",
    "\n",
    "# point1 = sp.pi / 2 + I * (sp.pi / 2)\n",
    "# point2 = sp.pi + I * sp.pi\n",
    "\n",
    "# integral = sp.cosh(sp.conjugate(z))\n",
    "\n",
    "# point1 = I * sp.pi\n",
    "# point2 = sp.pi/2 + I * sp.pi/2\n",
    "\n",
    "# integral = sp.tanh(z)\n",
    "\n",
    "# point1 = sp.ln(3)\n",
    "# point2 = sp.ln(4) + I * sp.pi/4\n",
    "\n",
    "integral = sp.cosh(sp.conjugate(z))\n",
    "\n",
    "point1 = -3 * sp.pi / 2\n",
    "point2 = I * 3 * sp.pi / 2\n",
    "\n",
    "display(Markdown(f'\\\\begin{{equation}} \\\\int_C {sp.latex(integral)} \\,dz \\\\end{{equation}}'))\n",
    "\n",
    "f = integral.subs(z, x + I * y)\n",
    "\n",
    "display(Markdown(f'\\\\begin{{equation}} f(z) = {sp.latex(f)}  \\\\end{{equation}}'))\n",
    "\n",
    "re, im = f.as_real_imag()\n",
    "\n",
    "fstring: str = f\"\\\\begin{{cases}}                 \" \\\n",
    "               f\"   u(x, y) = {sp.latex(re)} \\\\\\\\ \" \\\n",
    "               f\"   v(x, y) = {sp.latex(im)}      \" \\\n",
    "               f\"\\\\end{{cases}}                   \" \\\n",
    "                \n",
    "display(Markdown(fstring))\n",
    "\n",
    "isAnalyt = checkAnalyt(re, im)\n",
    "\n",
    "if isAnalyt:\n",
    "    NewtonLeibniz(f)\n",
    "else:\n",
    "    t = sp.symbols('t', real=True)\n",
    "\n",
    "    try:\n",
    "        x1, y1 = point1.as_real_imag()\n",
    "    except:\n",
    "        x1, y1 = 0, 0\n",
    "\n",
    "    try:\n",
    "        x2, y2 = point2.as_real_imag()\n",
    "    except:\n",
    "        x2, y2 = 0, 0\n",
    "\n",
    "    dx = x2 - x1\n",
    "    dy = y2 - y1\n",
    "\n",
    "    x0, y0 = x1, y1\n",
    "\n",
    "    x = x0 + dx * t\n",
    "    y = y0 + dy * t\n",
    "\n",
    "    t_values = sp.solve(x - x2, t)\n",
    "    t_values.extend(sp.solve(y - y2, t))\n",
    "    t_values = [t_val.evalf() for t_val in t_values]\n",
    "\n",
    "    t_min = min(0, min(t_values))\n",
    "    t_max = max(1, max(t_values))\n",
    "\n",
    "    fstring: str = f\"\\\\begin{{cases}}             \" \\\n",
    "                   f\"   x(t) = {sp.latex(x)} \\\\\\\\ \" \\\n",
    "                   f\"   y(t) = {sp.latex(y)}      \" \\\n",
    "                   f\"\\\\end{{cases}}               \" \\\n",
    "                \n",
    "    display(Markdown(fstring))\n",
    "\n",
    "    display(Markdown(f'\\\\begin{{equation}} t \\\\in [{sp.latex(t_min)}, {sp.latex(t_max)}] \\\\end{{equation}}'))\n",
    "\n",
    "    fzt = integral.subs(z, x + I* y)\n",
    "\n",
    "    display(Markdown(f'\\\\begin{{equation}} f(z(t)) = {sp.latex(fzt)} \\\\end{{equation}}'))\n",
    "\n",
    "    zdifft = (x + I * y).diff(t)\n",
    "\n",
    "    display(Markdown(f'\\\\begin{{equation}} z\\'(t) = {sp.latex(zdifft)} \\\\end{{equation}}'))\n",
    "\n",
    "    fzt_zdifft = fzt * zdifft\n",
    "\n",
    "    fzt_zdifft = fzt_zdifft.simplify()\n",
    "\n",
    "    display(Markdown(f'\\\\begin{{equation}} \\\\int_C {sp.latex(integral)} \\,dz = \\\\int_{{t_0}}^{{t_1}} f(z(t)) z\\'(t) \\,dt =  \\\\int_{sp.latex(t_min)}^{sp.latex(t_max)} {sp.latex(fzt_zdifft)} \\,dt \\\\end{{equation}}'))\n",
    "\n",
    "    res = sp.integrate(fzt_zdifft, (t, t_min, t_max))\n",
    "\n",
    "    display(Markdown(f'\\\\begin{{equation}} answer = {sp.latex(res)} \\\\end{{equation}}'))\n",
    "\n",
    "    display(Markdown(f'\\\\begin{{equation}} answer = {sp.latex(res.simplify())} \\\\end{{equation}}'))\n",
    "\n",
    "    real, imaginary = res.as_real_imag()\n",
    "\n",
    "    display(Markdown(f'\\\\begin{{equation}} answer = ({sp.latex(real)}) + i({sp.latex(imaginary)})\\\\end{{equation}}'))\n",
    "    display(Markdown(f'\\\\begin{{equation}} answer = ({sp.latex(real.simplify())}) + i({sp.latex(imaginary.simplify())})\\\\end{{equation}}'))"
   ]
  },
  {
   "cell_type": "markdown",
   "metadata": {},
   "source": [
    "<h3><center>ТФКП. Задание 21. Особые точки и вычеты в них.</center></h3>"
   ]
  },
  {
   "cell_type": "code",
   "execution_count": 119,
   "metadata": {},
   "outputs": [],
   "source": [
    "def defineWhatKindOfPoint(f, *points):\n",
    "    for point in points:\n",
    "\n",
    "        try:\n",
    "            lim = sp.Limit(f, z, point)\n",
    "\n",
    "            reslim = lim.doit()\n",
    "\n",
    "            display(Markdown(f'\\\\begin{{equation}} {sp.latex(lim)} = {sp.latex(reslim)} \\\\end{{equation}}'))\n",
    "\n",
    "            match reslim:\n",
    "                case sp.oo:\n",
    "                    fstring: str = f\"\\\\begin{{equation}} \" \\\n",
    "                                   f\"   \\\\textrm{{Точка }} z_0 = {sp.latex(point)} \\\\textrm{{ полюс k-го порядка}}\" \\\n",
    "                                   f\"\\\\end{{equation}}   \" \\\n",
    "\n",
    "                    display(Markdown(fstring))\n",
    "                    print(reslim)\n",
    "\n",
    "                case _:\n",
    "                    if point == sp.oo and reslim == 0:\n",
    "                        fstring: str = f\"\\\\begin{{equation}} \" \\\n",
    "                                       f\"   \\\\textrm{{Точка }} z_0 = {sp.latex(point)} \\\\textrm{{ ноль функции}}\" \\\n",
    "                                       f\"\\\\end{{equation}}   \" \\\n",
    "\n",
    "                        display(Markdown(fstring))\n",
    "                        print(reslim)\n",
    "\n",
    "                    elif 'oo' in str(reslim):\n",
    "                        fstring: str = f\"\\\\begin{{equation}} \" \\\n",
    "                                    f\"   \\\\textrm{{Точка }} z_0 = {sp.latex(point)} \\\\textrm{{ полюс k-го порядка}}\" \\\n",
    "                                    f\"\\\\end{{equation}}   \" \\\n",
    "\n",
    "                        display(Markdown(fstring))\n",
    "                        print(reslim)\n",
    "                        \n",
    "                    else:\n",
    "                        fstring: str = f\"\\\\begin{{equation}} \" \\\n",
    "                                       f\"   \\\\textrm{{Точка }} z_0 = {sp.latex(point)} \\\\textrm{{ устранимая особая точка}}\" \\\n",
    "                                       f\"\\\\end{{equation}}   \" \\\n",
    "\n",
    "                        display(Markdown(fstring))\n",
    "                        print(reslim)\n",
    "        except:\n",
    "            fstring: str = f\"\\\\begin{{equation}} \" \\\n",
    "                           f\"   \\\\textrm{{Точка }} z_0 = {sp.latex(point)} \\\\textrm{{ существенно-особая точка}}\" \\\n",
    "                           f\"\\\\end{{equation}}   \" \\\n",
    "\n",
    "            display(Markdown(fstring))\n",
    "            print(reslim)\n",
    "\n",
    "            "
   ]
  },
  {
   "cell_type": "code",
   "execution_count": 126,
   "metadata": {},
   "outputs": [],
   "source": [
    "def res(f, *points):\n",
    "    for point in points:\n",
    "        # terms = 5\n",
    "        # laurent_series = sp.series(f, z, x0=point, n=terms)\n",
    "        # display(Markdown(f'\\\\begin{{equation}} f(z)_{{z_0 = {sp.latex(point)}}} = {sp.latex(laurent_series)} \\\\end{{equation}}'))\n",
    "        try:\n",
    "            res = sp.residue(f, z, point)\n",
    "\n",
    "            fstring: str = f\"\\\\begin{{equation}}                  \" \\\n",
    "                           f\"   \\\\textrm{{Вычет в точке }} z_0 = {sp.latex(point)} \\\\textrm{{ равен }} ({sp.latex(res.simplify())})\" \\\n",
    "                           f\"\\\\end{{equation}}                    \" \\\n",
    "\n",
    "            display(Markdown(fstring))\n",
    "        except:\n",
    "            series_expansion = sp.series(f, z, point, n=100)\n",
    "\n",
    "            res = series_expansion.coeff(z, -1)\n",
    "\n",
    "            res *= -1 if point == sp.oo else 1\n",
    "\n",
    "            fstring: str = f\"\\\\begin{{equation}}                  \" \\\n",
    "                           f\"   \\\\textrm{{Вычет в точке }} z_0 = {sp.latex(point)} \\\\textrm{{ равен }} ({sp.latex(res)}) \\\\textrm{{ (возможно ошибка!!!) }}\" \\\n",
    "                           f\"\\\\end{{equation}}                    \" \\\n",
    "\n",
    "            display(Markdown(fstring))"
   ]
  },
  {
   "cell_type": "code",
   "execution_count": 121,
   "metadata": {},
   "outputs": [
    {
     "data": {
      "text/markdown": [
       "\\begin{equation} f(z) = \\frac{1}{z^{3} \\left(z^{2} + 4\\right)^{2}} \\end{equation}"
      ],
      "text/plain": [
       "<IPython.core.display.Markdown object>"
      ]
     },
     "metadata": {},
     "output_type": "display_data"
    },
    {
     "data": {
      "text/markdown": [
       "\\begin{equation} \\lim_{z \\to 0^+}\\left(\\frac{1}{z^{3} \\left(z^{2} + 4\\right)^{2}}\\right) = \\infty \\end{equation}"
      ],
      "text/plain": [
       "<IPython.core.display.Markdown object>"
      ]
     },
     "metadata": {},
     "output_type": "display_data"
    },
    {
     "data": {
      "text/markdown": [
       "\\begin{equation}    \\textrm{Точка } z_0 = 0 \\textrm{ полюс k-го порядка}\\end{equation}   "
      ],
      "text/plain": [
       "<IPython.core.display.Markdown object>"
      ]
     },
     "metadata": {},
     "output_type": "display_data"
    },
    {
     "name": "stdout",
     "output_type": "stream",
     "text": [
      "oo\n"
     ]
    },
    {
     "data": {
      "text/markdown": [
       "\\begin{equation} \\lim_{z \\to 2 i^+}\\left(\\frac{1}{z^{3} \\left(z^{2} + 4\\right)^{2}}\\right) = - \\infty i \\end{equation}"
      ],
      "text/plain": [
       "<IPython.core.display.Markdown object>"
      ]
     },
     "metadata": {},
     "output_type": "display_data"
    },
    {
     "data": {
      "text/markdown": [
       "\\begin{equation}    \\textrm{Точка } z_0 = 2 i \\textrm{ полюс k-го порядка}\\end{equation}   "
      ],
      "text/plain": [
       "<IPython.core.display.Markdown object>"
      ]
     },
     "metadata": {},
     "output_type": "display_data"
    },
    {
     "name": "stdout",
     "output_type": "stream",
     "text": [
      "-oo*I\n"
     ]
    },
    {
     "data": {
      "text/markdown": [
       "\\begin{equation} \\lim_{z \\to - 2 i^+}\\left(\\frac{1}{z^{3} \\left(z^{2} + 4\\right)^{2}}\\right) = \\infty i \\end{equation}"
      ],
      "text/plain": [
       "<IPython.core.display.Markdown object>"
      ]
     },
     "metadata": {},
     "output_type": "display_data"
    },
    {
     "data": {
      "text/markdown": [
       "\\begin{equation}    \\textrm{Точка } z_0 = - 2 i \\textrm{ полюс k-го порядка}\\end{equation}   "
      ],
      "text/plain": [
       "<IPython.core.display.Markdown object>"
      ]
     },
     "metadata": {},
     "output_type": "display_data"
    },
    {
     "name": "stdout",
     "output_type": "stream",
     "text": [
      "oo*I\n"
     ]
    },
    {
     "data": {
      "text/markdown": [
       "\\begin{equation} \\lim_{z \\to \\infty}\\left(\\frac{1}{z^{3} \\left(z^{2} + 4\\right)^{2}}\\right) = 0 \\end{equation}"
      ],
      "text/plain": [
       "<IPython.core.display.Markdown object>"
      ]
     },
     "metadata": {},
     "output_type": "display_data"
    },
    {
     "data": {
      "text/markdown": [
       "\\begin{equation}    \\textrm{Точка } z_0 = \\infty \\textrm{ ноль функции}\\end{equation}   "
      ],
      "text/plain": [
       "<IPython.core.display.Markdown object>"
      ]
     },
     "metadata": {},
     "output_type": "display_data"
    },
    {
     "name": "stdout",
     "output_type": "stream",
     "text": [
      "0\n"
     ]
    },
    {
     "data": {
      "text/markdown": [
       "\\begin{equation}                     \\textrm{Вычет в точке } z_0 = 0 \\textrm{ равен } (- \\frac{1}{32})\\end{equation}                    "
      ],
      "text/plain": [
       "<IPython.core.display.Markdown object>"
      ]
     },
     "metadata": {},
     "output_type": "display_data"
    },
    {
     "data": {
      "text/markdown": [
       "\\begin{equation}                     \\textrm{Вычет в точке } z_0 = 2 i \\textrm{ равен } (\\frac{1}{64})\\end{equation}                    "
      ],
      "text/plain": [
       "<IPython.core.display.Markdown object>"
      ]
     },
     "metadata": {},
     "output_type": "display_data"
    },
    {
     "data": {
      "text/markdown": [
       "\\begin{equation}                     \\textrm{Вычет в точке } z_0 = - 2 i \\textrm{ равен } (\\frac{1}{64})\\end{equation}                    "
      ],
      "text/plain": [
       "<IPython.core.display.Markdown object>"
      ]
     },
     "metadata": {},
     "output_type": "display_data"
    },
    {
     "data": {
      "text/markdown": [
       "\\begin{equation}                     \\textrm{Вычет в точке } z_0 = \\infty \\textrm{ равен } (0) \\textrm{ (возможно ошибка!!!) }\\end{equation}                    "
      ],
      "text/plain": [
       "<IPython.core.display.Markdown object>"
      ]
     },
     "metadata": {},
     "output_type": "display_data"
    }
   ],
   "source": [
    "z = sp.symbols('z')\n",
    "\n",
    "# f = sp.exp(1/z)/(1 - z)\n",
    "# f = sp.sin(1/z)/(z*(z+1))\n",
    "# f = z/((z + 1)**3 * (sp.exp(z) - 1))\n",
    "# f = sp.exp(z)/(z**2 * (z**2 + 4))\n",
    "f = 1/(z**3 * (z**2 + 4)**2)\n",
    "\n",
    "display(Markdown(f'\\\\begin{{equation}} f(z) = {sp.latex(f)} \\\\end{{equation}}'))\n",
    "\n",
    "# особые точки\n",
    "\n",
    "# z1 = 1\n",
    "# z2 = 0\n",
    "# z3 = sp.oo\n",
    "\n",
    "# z1 = -1\n",
    "# z2 = 0\n",
    "# z3 = sp.oo\n",
    "\n",
    "# z1 = -1\n",
    "# z2 = 0\n",
    "# z3 = sp.oo\n",
    "\n",
    "z1 = 0\n",
    "z2 = 2 * I\n",
    "z3 = - 2 * I\n",
    "z4 = sp.oo\n",
    "\n",
    "defineWhatKindOfPoint(f, z1, z2, z3, z4)\n",
    "# c нулем всегда проблемы\n",
    "\n",
    "res(f, z1, z2, z3, z4)\n",
    "# в случае НЕ бесконечно-удаленной точки\n",
    "# если считает, то полюс\n",
    "# если нет, то c.о.т ))"
   ]
  },
  {
   "cell_type": "markdown",
   "metadata": {},
   "source": [
    "<h3><center>ТФКП. Задание 23. Приложение теории вычетов к вычислению несобственных и определенных интегралов.</center></h3>"
   ]
  },
  {
   "cell_type": "code",
   "execution_count": 129,
   "metadata": {},
   "outputs": [
    {
     "data": {
      "text/markdown": [
       "\\begin{equation} \\int_{-\\infty}^{\\infty} \\frac{1}{z^{4} + 13 z^{2} + 36} \\,dx \\end{equation}"
      ],
      "text/plain": [
       "<IPython.core.display.Markdown object>"
      ]
     },
     "metadata": {},
     "output_type": "display_data"
    },
    {
     "data": {
      "text/markdown": [
       "\\begin{equation} \\lim_{z \\to 3 i^+} \\frac{1}{z^{4} + 13 z^{2} + 36} = \\infty i \\end{equation}"
      ],
      "text/plain": [
       "<IPython.core.display.Markdown object>"
      ]
     },
     "metadata": {},
     "output_type": "display_data"
    },
    {
     "data": {
      "text/markdown": [
       "\\begin{equation}    \\textrm{Точка } z_0 = 3 i \\textrm{ полюс k-го порядка}\\end{equation}   "
      ],
      "text/plain": [
       "<IPython.core.display.Markdown object>"
      ]
     },
     "metadata": {},
     "output_type": "display_data"
    },
    {
     "name": "stdout",
     "output_type": "stream",
     "text": [
      "oo*I\n"
     ]
    },
    {
     "data": {
      "text/markdown": [
       "\\begin{equation} \\lim_{z \\to - 3 i^+} \\frac{1}{z^{4} + 13 z^{2} + 36} = - \\infty i \\end{equation}"
      ],
      "text/plain": [
       "<IPython.core.display.Markdown object>"
      ]
     },
     "metadata": {},
     "output_type": "display_data"
    },
    {
     "data": {
      "text/markdown": [
       "\\begin{equation}    \\textrm{Точка } z_0 = - 3 i \\textrm{ полюс k-го порядка}\\end{equation}   "
      ],
      "text/plain": [
       "<IPython.core.display.Markdown object>"
      ]
     },
     "metadata": {},
     "output_type": "display_data"
    },
    {
     "name": "stdout",
     "output_type": "stream",
     "text": [
      "-oo*I\n"
     ]
    },
    {
     "data": {
      "text/markdown": [
       "\\begin{equation} \\lim_{z \\to 2 i^+} \\frac{1}{z^{4} + 13 z^{2} + 36} = - \\infty i \\end{equation}"
      ],
      "text/plain": [
       "<IPython.core.display.Markdown object>"
      ]
     },
     "metadata": {},
     "output_type": "display_data"
    },
    {
     "data": {
      "text/markdown": [
       "\\begin{equation}    \\textrm{Точка } z_0 = 2 i \\textrm{ полюс k-го порядка}\\end{equation}   "
      ],
      "text/plain": [
       "<IPython.core.display.Markdown object>"
      ]
     },
     "metadata": {},
     "output_type": "display_data"
    },
    {
     "name": "stdout",
     "output_type": "stream",
     "text": [
      "-oo*I\n"
     ]
    },
    {
     "data": {
      "text/markdown": [
       "\\begin{equation} \\lim_{z \\to - 2 i^+} \\frac{1}{z^{4} + 13 z^{2} + 36} = \\infty i \\end{equation}"
      ],
      "text/plain": [
       "<IPython.core.display.Markdown object>"
      ]
     },
     "metadata": {},
     "output_type": "display_data"
    },
    {
     "data": {
      "text/markdown": [
       "\\begin{equation}    \\textrm{Точка } z_0 = - 2 i \\textrm{ полюс k-го порядка}\\end{equation}   "
      ],
      "text/plain": [
       "<IPython.core.display.Markdown object>"
      ]
     },
     "metadata": {},
     "output_type": "display_data"
    },
    {
     "name": "stdout",
     "output_type": "stream",
     "text": [
      "oo*I\n"
     ]
    },
    {
     "data": {
      "text/markdown": [
       "\\begin{equation}                     \\textrm{Вычет в точке } z_0 = 3 i \\textrm{ равен } (\\frac{i}{30})\\end{equation}                    "
      ],
      "text/plain": [
       "<IPython.core.display.Markdown object>"
      ]
     },
     "metadata": {},
     "output_type": "display_data"
    },
    {
     "data": {
      "text/markdown": [
       "\\begin{equation}                     \\textrm{Вычет в точке } z_0 = - 3 i \\textrm{ равен } (- \\frac{i}{30})\\end{equation}                    "
      ],
      "text/plain": [
       "<IPython.core.display.Markdown object>"
      ]
     },
     "metadata": {},
     "output_type": "display_data"
    },
    {
     "data": {
      "text/markdown": [
       "\\begin{equation}                     \\textrm{Вычет в точке } z_0 = 2 i \\textrm{ равен } (- \\frac{i}{20})\\end{equation}                    "
      ],
      "text/plain": [
       "<IPython.core.display.Markdown object>"
      ]
     },
     "metadata": {},
     "output_type": "display_data"
    },
    {
     "data": {
      "text/markdown": [
       "\\begin{equation}                     \\textrm{Вычет в точке } z_0 = - 2 i \\textrm{ равен } (\\frac{i}{20})\\end{equation}                    "
      ],
      "text/plain": [
       "<IPython.core.display.Markdown object>"
      ]
     },
     "metadata": {},
     "output_type": "display_data"
    },
    {
     "data": {
      "text/markdown": [
       "\\begin{equation} \\int_{-\\infty}^{\\infty} f(x) \\,dx = 2 \\pi i \\sum_k res(f(z), z_k) \\end{equation}"
      ],
      "text/plain": [
       "<IPython.core.display.Markdown object>"
      ]
     },
     "metadata": {},
     "output_type": "display_data"
    },
    {
     "data": {
      "text/markdown": [
       "\\begin{equation} \\textrm{Обычно дугу $C_R$ проводят в верхней полуплоскости. Соответственно внутрь искусственно образованного контура попадают особые точки функции f(z), расположенные в верхней полуплоскости.} \\end{equation}"
      ],
      "text/plain": [
       "<IPython.core.display.Markdown object>"
      ]
     },
     "metadata": {},
     "output_type": "display_data"
    }
   ],
   "source": [
    "z = sp.symbols('z')\n",
    "\n",
    "f = 1/(z**4 + 13*z**2 + 36)\n",
    "\n",
    "display(Markdown(f'\\\\begin{{equation}} \\\\int_{{-\\\\infty}}^{{\\\\infty}} {sp.latex(f)} \\,dx \\\\end{{equation}}'))\n",
    "\n",
    "# особые точки\n",
    "\n",
    "z1 = 3 * I\n",
    "z2 = -3 * I\n",
    "z3 = 2 * I\n",
    "z4 = -2 * I\n",
    "\n",
    "defineWhatKindOfPoint(f, z1, z2, z3, z4)\n",
    "# c нулем всегда проблемы\n",
    "\n",
    "sumy = res(f, z1, z2, z3, z4)\n",
    "# в случае НЕ бесконечно-удаленной точки\n",
    "# если считает, то полюс\n",
    "# если нет, то c.о.т ))\n",
    "\n",
    "display(Markdown(f'\\\\begin{{equation}} \\\\int_{{-\\\\infty}}^{{\\\\infty}} f(x) \\,dx = 2 \\\\pi i \\\\sum_k res(f(z), z_k) \\\\end{{equation}}'))\n",
    "display(Markdown(f'\\\\begin{{equation}} \\\\textrm{{Обычно дугу $C_R$ проводят в верхней полуплоскости. Соответственно внутрь искусственно образованного контура попадают особые точки функции f(z), расположенные в \\\\textbf{{верхней полуплоскости}}.}} \\\\end{{equation}}'))"
   ]
  }
 ],
 "metadata": {
  "kernelspec": {
   "display_name": "Python 3",
   "language": "python",
   "name": "python3"
  },
  "language_info": {
   "codemirror_mode": {
    "name": "ipython",
    "version": 3
   },
   "file_extension": ".py",
   "mimetype": "text/x-python",
   "name": "python",
   "nbconvert_exporter": "python",
   "pygments_lexer": "ipython3",
   "version": "3.11.9"
  }
 },
 "nbformat": 4,
 "nbformat_minor": 2
}
